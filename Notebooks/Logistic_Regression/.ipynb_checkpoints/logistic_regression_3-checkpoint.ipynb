{
 "cells": [
  {
   "cell_type": "code",
   "execution_count": 25,
   "metadata": {},
   "outputs": [],
   "source": [
    "import pandas as pd\n",
    "import matplotlib.pyplot as plt\n",
    "import numpy as np\n",
    "%matplotlib inline\n",
    "\n",
    "from sklearn.linear_model import LogisticRegression, Lasso, Ridge\n",
    "from sklearn.model_selection import train_test_split, KFold"
   ]
  },
  {
   "cell_type": "code",
   "execution_count": 45,
   "metadata": {},
   "outputs": [
    {
     "data": {
      "text/html": [
       "<div>\n",
       "<style scoped>\n",
       "    .dataframe tbody tr th:only-of-type {\n",
       "        vertical-align: middle;\n",
       "    }\n",
       "\n",
       "    .dataframe tbody tr th {\n",
       "        vertical-align: top;\n",
       "    }\n",
       "\n",
       "    .dataframe thead th {\n",
       "        text-align: right;\n",
       "    }\n",
       "</style>\n",
       "<table border=\"1\" class=\"dataframe\">\n",
       "  <thead>\n",
       "    <tr style=\"text-align: right;\">\n",
       "      <th></th>\n",
       "      <th>Gender</th>\n",
       "      <th>Age</th>\n",
       "      <th>EstimatedSalary</th>\n",
       "      <th>Purchased</th>\n",
       "    </tr>\n",
       "  </thead>\n",
       "  <tbody>\n",
       "    <tr>\n",
       "      <th>0</th>\n",
       "      <td>Male</td>\n",
       "      <td>19</td>\n",
       "      <td>19000</td>\n",
       "      <td>0</td>\n",
       "    </tr>\n",
       "    <tr>\n",
       "      <th>1</th>\n",
       "      <td>Male</td>\n",
       "      <td>35</td>\n",
       "      <td>20000</td>\n",
       "      <td>0</td>\n",
       "    </tr>\n",
       "    <tr>\n",
       "      <th>2</th>\n",
       "      <td>Female</td>\n",
       "      <td>26</td>\n",
       "      <td>43000</td>\n",
       "      <td>0</td>\n",
       "    </tr>\n",
       "    <tr>\n",
       "      <th>3</th>\n",
       "      <td>Female</td>\n",
       "      <td>27</td>\n",
       "      <td>57000</td>\n",
       "      <td>0</td>\n",
       "    </tr>\n",
       "    <tr>\n",
       "      <th>4</th>\n",
       "      <td>Male</td>\n",
       "      <td>19</td>\n",
       "      <td>76000</td>\n",
       "      <td>0</td>\n",
       "    </tr>\n",
       "  </tbody>\n",
       "</table>\n",
       "</div>"
      ],
      "text/plain": [
       "   Gender  Age  EstimatedSalary  Purchased\n",
       "0    Male   19            19000          0\n",
       "1    Male   35            20000          0\n",
       "2  Female   26            43000          0\n",
       "3  Female   27            57000          0\n",
       "4    Male   19            76000          0"
      ]
     },
     "execution_count": 45,
     "metadata": {},
     "output_type": "execute_result"
    }
   ],
   "source": [
    "df = pd.read_csv('../../Datasets/Social_Network_Ads.csv')\n",
    "\n",
    "df.drop('User ID', axis=1, inplace=True)\n",
    "df.head(5)"
   ]
  },
  {
   "cell_type": "code",
   "execution_count": 46,
   "metadata": {},
   "outputs": [],
   "source": [
    "df.Gender = pd.get_dummies(df.Gender, drop_first=True)"
   ]
  },
  {
   "cell_type": "code",
   "execution_count": 47,
   "metadata": {},
   "outputs": [],
   "source": [
    "X = df.to_numpy()"
   ]
  },
  {
   "cell_type": "code",
   "execution_count": 48,
   "metadata": {},
   "outputs": [
    {
     "data": {
      "text/plain": [
       "array([ 38, 128, 389, 116, 186, 342,  48,  67,   7,  36, 365, 327,  83,\n",
       "         3, 171, 297, 201, 255,  26,   4, 293, 204, 103, 330, 275, 190,\n",
       "       148,  81, 268,  19,  30, 248, 262, 216, 351, 281, 168,  61,  27,\n",
       "        34,  95, 133, 160, 194, 140,  64, 150, 243,  68, 335,  33, 374,\n",
       "       329, 217, 191, 142, 382, 151,   2, 291, 167, 306, 383, 286,  78,\n",
       "        56,  15, 225, 359,  43, 264, 290,  84, 244, 289,  22,  93, 164,\n",
       "        66, 280,   9, 192, 277, 124, 337, 361, 256, 110,   8, 198, 112,\n",
       "        35, 274, 159, 395, 246, 349, 333, 101,  37, 380, 288, 260,  72,\n",
       "       391, 276, 338, 213, 119,  79, 241, 122, 155,  96, 199,  82, 215,\n",
       "       129, 143,  40, 295, 308, 153,  29, 398, 261, 178, 187,  23, 392,\n",
       "        94, 287, 123, 184,  18, 362, 174, 177, 303, 240, 113, 226, 311,\n",
       "       319, 197, 364, 203,  69,  52,  39, 220, 355, 179, 340,  14, 302,\n",
       "       328, 234, 326, 239,  51, 381, 304,  73, 214, 320, 263, 141, 345,\n",
       "        75,  63,  49,  60,  76, 106, 224, 273, 363, 145,  53, 196, 115,\n",
       "        99,  74,   1, 209, 183, 254,  98, 206, 108, 109, 149,  13, 111,\n",
       "         0,  42,  47, 100, 301, 390, 396, 236, 272, 193, 321, 238, 242,\n",
       "       223, 130, 282, 367, 235, 283,   5,  20, 162,  80,  50, 163, 300,\n",
       "       156, 307, 278, 357,  65, 312, 316, 279, 135, 107,  88, 296, 208,\n",
       "        28, 368, 344, 376, 384, 182,  91, 325, 219, 232, 105, 200,  45,\n",
       "        16, 207, 180, 222, 314, 354, 170, 253, 310, 352, 202, 393, 166,\n",
       "       211, 267, 375, 350,  10,  12,  62, 399, 378, 313, 212,  11, 397,\n",
       "       188, 173, 251, 371,  70, 247, 370, 249, 121, 315, 324,  24, 146,\n",
       "       270, 377, 317, 284, 158,  89, 305, 346, 369, 132, 298, 386, 120,\n",
       "       233, 332, 127, 334, 176, 347, 356, 331,  44, 259,  55, 285, 205,\n",
       "       152,  25,  86, 138, 139, 229, 102, 165, 131,  87,  92, 341, 294,\n",
       "       195, 269, 387, 271, 221, 117, 114, 257, 322, 181, 373, 250, 258,\n",
       "       318, 360, 266,  31, 265,   6, 172, 299, 339,  90,  32, 147,  54,\n",
       "       210, 372,  57, 358, 379, 230,  58,  21,  17,  59, 353, 292, 237,\n",
       "       336, 189, 388, 343, 227, 118,  41, 157, 252, 323, 161, 137, 385,\n",
       "       231, 245, 218,  85, 185, 309,  71, 154,  77, 144, 136,  97, 169,\n",
       "        46, 134, 348, 228, 125, 175, 394, 366, 104, 126])"
      ]
     },
     "execution_count": 48,
     "metadata": {},
     "output_type": "execute_result"
    }
   ],
   "source": [
    "np.random.permutation(400)"
   ]
  },
  {
   "cell_type": "code",
   "execution_count": 49,
   "metadata": {},
   "outputs": [],
   "source": [
    "np.random.seed = 0\n",
    "X = X[np.random.permutation(X.shape[0])]"
   ]
  },
  {
   "cell_type": "code",
   "execution_count": 50,
   "metadata": {},
   "outputs": [],
   "source": [
    "y = X[:, -1]\n",
    "X = X[:, :-1]"
   ]
  },
  {
   "cell_type": "code",
   "execution_count": 32,
   "metadata": {},
   "outputs": [],
   "source": [
    "# X = (X - X.mean(axis=0)) / X.std(axis=0)"
   ]
  },
  {
   "cell_type": "markdown",
   "metadata": {},
   "source": [
    "# KFold"
   ]
  },
  {
   "cell_type": "code",
   "execution_count": 9,
   "metadata": {},
   "outputs": [
    {
     "name": "stdout",
     "output_type": "stream",
     "text": [
      "0.85125\n",
      "0.845\n"
     ]
    }
   ],
   "source": [
    "train_score = 0\n",
    "val_score = 0\n",
    "\n",
    "s = KFold(n_splits=5)\n",
    "for z in s.split(X, y):\n",
    "    train_x = X[z[0]]\n",
    "    train_y = y[z[0]]\n",
    "    \n",
    "    val_x = X[z[1]]\n",
    "    val_y = y[z[1]]\n",
    "    \n",
    "    clf = LogisticRegression()\n",
    "    clf.fit(train_x, train_y)\n",
    "    \n",
    "    train_score += clf.score(train_x, train_y)\n",
    "    val_score += clf.score(val_x, val_y)\n",
    "    \n",
    "    \n",
    "print(train_score / 5)\n",
    "print(val_score / 5)\n",
    "#############\n",
    "# 1 2 3 4 5\n",
    "# train = 2, 3, 4, 5 # test = 1\n",
    "# train = 1, 3, 4, 5 # test = 2\n",
    "# train = 2, 1, 4, 5 # test = 3\n",
    "# train = 2, 3, 1, 5 # test = 4\n",
    "# train = 2, 3, 4, 1 # test = 5"
   ]
  },
  {
   "cell_type": "code",
   "execution_count": 10,
   "metadata": {},
   "outputs": [],
   "source": [
    "from sklearn.preprocessing import PolynomialFeatures"
   ]
  },
  {
   "cell_type": "code",
   "execution_count": 11,
   "metadata": {},
   "outputs": [],
   "source": [
    "X_poly = PolynomialFeatures(degree=5).fit_transform(X)"
   ]
  },
  {
   "cell_type": "code",
   "execution_count": 12,
   "metadata": {},
   "outputs": [
    {
     "name": "stdout",
     "output_type": "stream",
     "text": [
      "C =  0.0001\n",
      "0.7612499999999999\n",
      "0.755\n",
      "------------------\n",
      "C =  0.001\n",
      "0.7962499999999999\n",
      "0.7999999999999999\n",
      "------------------\n",
      "C =  0.01\n",
      "0.8774999999999998\n",
      "0.865\n",
      "------------------\n"
     ]
    },
    {
     "name": "stderr",
     "output_type": "stream",
     "text": [
      "/usr/local/lib/python3.8/dist-packages/sklearn/linear_model/_logistic.py:762: ConvergenceWarning: lbfgs failed to converge (status=1):\n",
      "STOP: TOTAL NO. of ITERATIONS REACHED LIMIT.\n",
      "\n",
      "Increase the number of iterations (max_iter) or scale the data as shown in:\n",
      "    https://scikit-learn.org/stable/modules/preprocessing.html\n",
      "Please also refer to the documentation for alternative solver options:\n",
      "    https://scikit-learn.org/stable/modules/linear_model.html#logistic-regression\n",
      "  n_iter_i = _check_optimize_result(\n",
      "/usr/local/lib/python3.8/dist-packages/sklearn/linear_model/_logistic.py:762: ConvergenceWarning: lbfgs failed to converge (status=1):\n",
      "STOP: TOTAL NO. of ITERATIONS REACHED LIMIT.\n",
      "\n",
      "Increase the number of iterations (max_iter) or scale the data as shown in:\n",
      "    https://scikit-learn.org/stable/modules/preprocessing.html\n",
      "Please also refer to the documentation for alternative solver options:\n",
      "    https://scikit-learn.org/stable/modules/linear_model.html#logistic-regression\n",
      "  n_iter_i = _check_optimize_result(\n"
     ]
    },
    {
     "name": "stdout",
     "output_type": "stream",
     "text": [
      "C =  0.1\n",
      "0.9062500000000002\n",
      "0.9024999999999999\n",
      "------------------\n"
     ]
    },
    {
     "name": "stderr",
     "output_type": "stream",
     "text": [
      "/usr/local/lib/python3.8/dist-packages/sklearn/linear_model/_logistic.py:762: ConvergenceWarning: lbfgs failed to converge (status=1):\n",
      "STOP: TOTAL NO. of ITERATIONS REACHED LIMIT.\n",
      "\n",
      "Increase the number of iterations (max_iter) or scale the data as shown in:\n",
      "    https://scikit-learn.org/stable/modules/preprocessing.html\n",
      "Please also refer to the documentation for alternative solver options:\n",
      "    https://scikit-learn.org/stable/modules/linear_model.html#logistic-regression\n",
      "  n_iter_i = _check_optimize_result(\n",
      "/usr/local/lib/python3.8/dist-packages/sklearn/linear_model/_logistic.py:762: ConvergenceWarning: lbfgs failed to converge (status=1):\n",
      "STOP: TOTAL NO. of ITERATIONS REACHED LIMIT.\n",
      "\n",
      "Increase the number of iterations (max_iter) or scale the data as shown in:\n",
      "    https://scikit-learn.org/stable/modules/preprocessing.html\n",
      "Please also refer to the documentation for alternative solver options:\n",
      "    https://scikit-learn.org/stable/modules/linear_model.html#logistic-regression\n",
      "  n_iter_i = _check_optimize_result(\n",
      "/usr/local/lib/python3.8/dist-packages/sklearn/linear_model/_logistic.py:762: ConvergenceWarning: lbfgs failed to converge (status=1):\n",
      "STOP: TOTAL NO. of ITERATIONS REACHED LIMIT.\n",
      "\n",
      "Increase the number of iterations (max_iter) or scale the data as shown in:\n",
      "    https://scikit-learn.org/stable/modules/preprocessing.html\n",
      "Please also refer to the documentation for alternative solver options:\n",
      "    https://scikit-learn.org/stable/modules/linear_model.html#logistic-regression\n",
      "  n_iter_i = _check_optimize_result(\n",
      "/usr/local/lib/python3.8/dist-packages/sklearn/linear_model/_logistic.py:762: ConvergenceWarning: lbfgs failed to converge (status=1):\n",
      "STOP: TOTAL NO. of ITERATIONS REACHED LIMIT.\n",
      "\n",
      "Increase the number of iterations (max_iter) or scale the data as shown in:\n",
      "    https://scikit-learn.org/stable/modules/preprocessing.html\n",
      "Please also refer to the documentation for alternative solver options:\n",
      "    https://scikit-learn.org/stable/modules/linear_model.html#logistic-regression\n",
      "  n_iter_i = _check_optimize_result(\n",
      "/usr/local/lib/python3.8/dist-packages/sklearn/linear_model/_logistic.py:762: ConvergenceWarning: lbfgs failed to converge (status=1):\n",
      "STOP: TOTAL NO. of ITERATIONS REACHED LIMIT.\n",
      "\n",
      "Increase the number of iterations (max_iter) or scale the data as shown in:\n",
      "    https://scikit-learn.org/stable/modules/preprocessing.html\n",
      "Please also refer to the documentation for alternative solver options:\n",
      "    https://scikit-learn.org/stable/modules/linear_model.html#logistic-regression\n",
      "  n_iter_i = _check_optimize_result(\n"
     ]
    },
    {
     "name": "stdout",
     "output_type": "stream",
     "text": [
      "C =  1\n",
      "0.921875\n",
      "0.8949999999999999\n",
      "------------------\n"
     ]
    },
    {
     "name": "stderr",
     "output_type": "stream",
     "text": [
      "/usr/local/lib/python3.8/dist-packages/sklearn/linear_model/_logistic.py:762: ConvergenceWarning: lbfgs failed to converge (status=1):\n",
      "STOP: TOTAL NO. of ITERATIONS REACHED LIMIT.\n",
      "\n",
      "Increase the number of iterations (max_iter) or scale the data as shown in:\n",
      "    https://scikit-learn.org/stable/modules/preprocessing.html\n",
      "Please also refer to the documentation for alternative solver options:\n",
      "    https://scikit-learn.org/stable/modules/linear_model.html#logistic-regression\n",
      "  n_iter_i = _check_optimize_result(\n",
      "/usr/local/lib/python3.8/dist-packages/sklearn/linear_model/_logistic.py:762: ConvergenceWarning: lbfgs failed to converge (status=1):\n",
      "STOP: TOTAL NO. of ITERATIONS REACHED LIMIT.\n",
      "\n",
      "Increase the number of iterations (max_iter) or scale the data as shown in:\n",
      "    https://scikit-learn.org/stable/modules/preprocessing.html\n",
      "Please also refer to the documentation for alternative solver options:\n",
      "    https://scikit-learn.org/stable/modules/linear_model.html#logistic-regression\n",
      "  n_iter_i = _check_optimize_result(\n",
      "/usr/local/lib/python3.8/dist-packages/sklearn/linear_model/_logistic.py:762: ConvergenceWarning: lbfgs failed to converge (status=1):\n",
      "STOP: TOTAL NO. of ITERATIONS REACHED LIMIT.\n",
      "\n",
      "Increase the number of iterations (max_iter) or scale the data as shown in:\n",
      "    https://scikit-learn.org/stable/modules/preprocessing.html\n",
      "Please also refer to the documentation for alternative solver options:\n",
      "    https://scikit-learn.org/stable/modules/linear_model.html#logistic-regression\n",
      "  n_iter_i = _check_optimize_result(\n",
      "/usr/local/lib/python3.8/dist-packages/sklearn/linear_model/_logistic.py:762: ConvergenceWarning: lbfgs failed to converge (status=1):\n",
      "STOP: TOTAL NO. of ITERATIONS REACHED LIMIT.\n",
      "\n",
      "Increase the number of iterations (max_iter) or scale the data as shown in:\n",
      "    https://scikit-learn.org/stable/modules/preprocessing.html\n",
      "Please also refer to the documentation for alternative solver options:\n",
      "    https://scikit-learn.org/stable/modules/linear_model.html#logistic-regression\n",
      "  n_iter_i = _check_optimize_result(\n",
      "/usr/local/lib/python3.8/dist-packages/sklearn/linear_model/_logistic.py:762: ConvergenceWarning: lbfgs failed to converge (status=1):\n",
      "STOP: TOTAL NO. of ITERATIONS REACHED LIMIT.\n",
      "\n",
      "Increase the number of iterations (max_iter) or scale the data as shown in:\n",
      "    https://scikit-learn.org/stable/modules/preprocessing.html\n",
      "Please also refer to the documentation for alternative solver options:\n",
      "    https://scikit-learn.org/stable/modules/linear_model.html#logistic-regression\n",
      "  n_iter_i = _check_optimize_result(\n"
     ]
    },
    {
     "name": "stdout",
     "output_type": "stream",
     "text": [
      "C =  10\n",
      "0.9256249999999999\n",
      "0.8825\n",
      "------------------\n"
     ]
    },
    {
     "name": "stderr",
     "output_type": "stream",
     "text": [
      "/usr/local/lib/python3.8/dist-packages/sklearn/linear_model/_logistic.py:762: ConvergenceWarning: lbfgs failed to converge (status=1):\n",
      "STOP: TOTAL NO. of ITERATIONS REACHED LIMIT.\n",
      "\n",
      "Increase the number of iterations (max_iter) or scale the data as shown in:\n",
      "    https://scikit-learn.org/stable/modules/preprocessing.html\n",
      "Please also refer to the documentation for alternative solver options:\n",
      "    https://scikit-learn.org/stable/modules/linear_model.html#logistic-regression\n",
      "  n_iter_i = _check_optimize_result(\n",
      "/usr/local/lib/python3.8/dist-packages/sklearn/linear_model/_logistic.py:762: ConvergenceWarning: lbfgs failed to converge (status=1):\n",
      "STOP: TOTAL NO. of ITERATIONS REACHED LIMIT.\n",
      "\n",
      "Increase the number of iterations (max_iter) or scale the data as shown in:\n",
      "    https://scikit-learn.org/stable/modules/preprocessing.html\n",
      "Please also refer to the documentation for alternative solver options:\n",
      "    https://scikit-learn.org/stable/modules/linear_model.html#logistic-regression\n",
      "  n_iter_i = _check_optimize_result(\n",
      "/usr/local/lib/python3.8/dist-packages/sklearn/linear_model/_logistic.py:762: ConvergenceWarning: lbfgs failed to converge (status=1):\n",
      "STOP: TOTAL NO. of ITERATIONS REACHED LIMIT.\n",
      "\n",
      "Increase the number of iterations (max_iter) or scale the data as shown in:\n",
      "    https://scikit-learn.org/stable/modules/preprocessing.html\n",
      "Please also refer to the documentation for alternative solver options:\n",
      "    https://scikit-learn.org/stable/modules/linear_model.html#logistic-regression\n",
      "  n_iter_i = _check_optimize_result(\n",
      "/usr/local/lib/python3.8/dist-packages/sklearn/linear_model/_logistic.py:762: ConvergenceWarning: lbfgs failed to converge (status=1):\n",
      "STOP: TOTAL NO. of ITERATIONS REACHED LIMIT.\n",
      "\n",
      "Increase the number of iterations (max_iter) or scale the data as shown in:\n",
      "    https://scikit-learn.org/stable/modules/preprocessing.html\n",
      "Please also refer to the documentation for alternative solver options:\n",
      "    https://scikit-learn.org/stable/modules/linear_model.html#logistic-regression\n",
      "  n_iter_i = _check_optimize_result(\n",
      "/usr/local/lib/python3.8/dist-packages/sklearn/linear_model/_logistic.py:762: ConvergenceWarning: lbfgs failed to converge (status=1):\n",
      "STOP: TOTAL NO. of ITERATIONS REACHED LIMIT.\n",
      "\n",
      "Increase the number of iterations (max_iter) or scale the data as shown in:\n",
      "    https://scikit-learn.org/stable/modules/preprocessing.html\n",
      "Please also refer to the documentation for alternative solver options:\n",
      "    https://scikit-learn.org/stable/modules/linear_model.html#logistic-regression\n",
      "  n_iter_i = _check_optimize_result(\n"
     ]
    },
    {
     "name": "stdout",
     "output_type": "stream",
     "text": [
      "C =  100\n",
      "0.9237499999999998\n",
      "0.885\n",
      "------------------\n"
     ]
    },
    {
     "name": "stderr",
     "output_type": "stream",
     "text": [
      "/usr/local/lib/python3.8/dist-packages/sklearn/linear_model/_logistic.py:762: ConvergenceWarning: lbfgs failed to converge (status=1):\n",
      "STOP: TOTAL NO. of ITERATIONS REACHED LIMIT.\n",
      "\n",
      "Increase the number of iterations (max_iter) or scale the data as shown in:\n",
      "    https://scikit-learn.org/stable/modules/preprocessing.html\n",
      "Please also refer to the documentation for alternative solver options:\n",
      "    https://scikit-learn.org/stable/modules/linear_model.html#logistic-regression\n",
      "  n_iter_i = _check_optimize_result(\n",
      "/usr/local/lib/python3.8/dist-packages/sklearn/linear_model/_logistic.py:762: ConvergenceWarning: lbfgs failed to converge (status=1):\n",
      "STOP: TOTAL NO. of ITERATIONS REACHED LIMIT.\n",
      "\n",
      "Increase the number of iterations (max_iter) or scale the data as shown in:\n",
      "    https://scikit-learn.org/stable/modules/preprocessing.html\n",
      "Please also refer to the documentation for alternative solver options:\n",
      "    https://scikit-learn.org/stable/modules/linear_model.html#logistic-regression\n",
      "  n_iter_i = _check_optimize_result(\n",
      "/usr/local/lib/python3.8/dist-packages/sklearn/linear_model/_logistic.py:762: ConvergenceWarning: lbfgs failed to converge (status=1):\n",
      "STOP: TOTAL NO. of ITERATIONS REACHED LIMIT.\n",
      "\n",
      "Increase the number of iterations (max_iter) or scale the data as shown in:\n",
      "    https://scikit-learn.org/stable/modules/preprocessing.html\n",
      "Please also refer to the documentation for alternative solver options:\n",
      "    https://scikit-learn.org/stable/modules/linear_model.html#logistic-regression\n",
      "  n_iter_i = _check_optimize_result(\n"
     ]
    },
    {
     "name": "stdout",
     "output_type": "stream",
     "text": [
      "C =  1000\n",
      "0.9225\n",
      "0.8825000000000001\n",
      "------------------\n"
     ]
    },
    {
     "name": "stderr",
     "output_type": "stream",
     "text": [
      "/usr/local/lib/python3.8/dist-packages/sklearn/linear_model/_logistic.py:762: ConvergenceWarning: lbfgs failed to converge (status=1):\n",
      "STOP: TOTAL NO. of ITERATIONS REACHED LIMIT.\n",
      "\n",
      "Increase the number of iterations (max_iter) or scale the data as shown in:\n",
      "    https://scikit-learn.org/stable/modules/preprocessing.html\n",
      "Please also refer to the documentation for alternative solver options:\n",
      "    https://scikit-learn.org/stable/modules/linear_model.html#logistic-regression\n",
      "  n_iter_i = _check_optimize_result(\n",
      "/usr/local/lib/python3.8/dist-packages/sklearn/linear_model/_logistic.py:762: ConvergenceWarning: lbfgs failed to converge (status=1):\n",
      "STOP: TOTAL NO. of ITERATIONS REACHED LIMIT.\n",
      "\n",
      "Increase the number of iterations (max_iter) or scale the data as shown in:\n",
      "    https://scikit-learn.org/stable/modules/preprocessing.html\n",
      "Please also refer to the documentation for alternative solver options:\n",
      "    https://scikit-learn.org/stable/modules/linear_model.html#logistic-regression\n",
      "  n_iter_i = _check_optimize_result(\n"
     ]
    }
   ],
   "source": [
    "for c in [0.0001, 0.001, 0.01, 0.1, 1, 10, 100, 1000]:\n",
    "    train_score = 0\n",
    "    val_score = 0\n",
    "    s = KFold(n_splits=5)\n",
    "    \n",
    "    for z in s.split(X, y):\n",
    "        train_x = X_poly[z[0]]\n",
    "        train_y = y[z[0]]\n",
    "\n",
    "        val_x = X_poly[z[1]]\n",
    "        val_y = y[z[1]]\n",
    "\n",
    "        clf = LogisticRegression(C=c)\n",
    "        clf.fit(train_x, train_y)\n",
    "\n",
    "        train_score += clf.score(train_x, train_y)\n",
    "        val_score += clf.score(val_x, val_y)\n",
    "    \n",
    "    \n",
    "    print('C = ', c)\n",
    "    print(train_score / 5)\n",
    "    print(val_score / 5)\n",
    "    print('------------------')"
   ]
  },
  {
   "cell_type": "code",
   "execution_count": 18,
   "metadata": {},
   "outputs": [
    {
     "name": "stdout",
     "output_type": "stream",
     "text": [
      "[[-0.35657937  0.05347928  0.65919102  1.11244233 -0.35443977 -0.09163244\n",
      "   0.25317082 -0.01185313 -0.4097456   0.77866739  0.03929886  0.65552499\n",
      "   1.12257119 -0.4236306   0.41957538  0.084494    0.26322028 -0.26621075\n",
      "   0.56511196 -0.79383676 -0.3528675  -0.06540619  0.29808265 -0.02880175\n",
      "  -0.39295923  0.78204782  0.24777692  0.13279733  0.19075683 -0.40090245\n",
      "  -0.15759151 -0.15964752  0.26099718 -0.94241437 -0.4475832   0.02518133\n",
      "   0.65290822  1.13449688 -0.4247829   0.40385387  0.11578218  0.27313334\n",
      "  -0.2608978   0.57274376 -0.80987607  0.36413393  0.07652868  0.56890979\n",
      "  -0.72065419  0.08097977  0.04847854  0.42485216  0.2305003  -0.02578743\n",
      "  -0.11999181  0.42148414]]\n"
     ]
    },
    {
     "name": "stderr",
     "output_type": "stream",
     "text": [
      "/usr/local/lib/python3.8/dist-packages/sklearn/linear_model/_logistic.py:762: ConvergenceWarning: lbfgs failed to converge (status=1):\n",
      "STOP: TOTAL NO. of ITERATIONS REACHED LIMIT.\n",
      "\n",
      "Increase the number of iterations (max_iter) or scale the data as shown in:\n",
      "    https://scikit-learn.org/stable/modules/preprocessing.html\n",
      "Please also refer to the documentation for alternative solver options:\n",
      "    https://scikit-learn.org/stable/modules/linear_model.html#logistic-regression\n",
      "  n_iter_i = _check_optimize_result(\n"
     ]
    }
   ],
   "source": [
    "clf = LogisticRegression()\n",
    "clf.fit(X_poly, y)\n",
    "print(clf.coef_)"
   ]
  },
  {
   "cell_type": "code",
   "execution_count": 24,
   "metadata": {},
   "outputs": [
    {
     "name": "stdout",
     "output_type": "stream",
     "text": [
      "[ 0.          0.00496369  0.08917116  0.14942801  0.00019859 -0.0022499\n",
      "  0.02922085  0.09080721 -0.00966254  0.19515796  0.00497164  0.08908115\n",
      "  0.15059708 -0.01612163  0.01965814  0.01004205  0.02393204 -0.14486273\n",
      "  0.01873018 -0.09754844  0.00039749  0.00131406  0.03524594  0.09016222\n",
      " -0.00887605  0.19555972 -0.00114051 -0.007745    0.01334889 -0.0260779\n",
      " -0.02364696  0.00971281 -0.02322862 -0.04626756 -0.08653326  0.00498754\n",
      "  0.08913372  0.1520072  -0.01251442  0.01930303  0.017866    0.02388641\n",
      " -0.14517259  0.01926425 -0.09859177  0.00828744 -0.00481352  0.00600369\n",
      " -0.02280311 -0.00203158 -0.01565783  0.04757605 -0.01167496  0.04175669\n",
      " -0.00048623  0.04105424]\n"
     ]
    }
   ],
   "source": [
    "##\n",
    "# w ** 2 => 10 -> 11 => +21\n",
    "# w ** 2 => 1 -> 2 => +3\n",
    "# w ** 2 => 0.01 => \n",
    "# 2 2 => 90% Ridge\n",
    "\n",
    "clf = Ridge(alpha=1)\n",
    "clf.fit(X_poly, y)\n",
    "print(clf.coef_)"
   ]
  },
  {
   "cell_type": "code",
   "execution_count": 23,
   "metadata": {},
   "outputs": [
    {
     "name": "stdout",
     "output_type": "stream",
     "text": [
      "[ 0.         -0.          0.          0.         -0.         -0.\n",
      " -0.          0.         -0.          0.         -0.          0.\n",
      "  0.         -0.         -0.         -0.          0.          0.\n",
      "  0.          0.         -0.         -0.         -0.          0.\n",
      " -0.          0.         -0.         -0.         -0.         -0.\n",
      "  0.         -0.          0.         -0.          0.         -0.\n",
      "  0.          0.         -0.         -0.         -0.          0.\n",
      "  0.          0.          0.         -0.         -0.         -0.\n",
      " -0.         -0.          0.00961015  0.          0.          0.\n",
      "  0.          0.00700848]\n"
     ]
    }
   ],
   "source": [
    "# |w|\n",
    "# 0 3 => 90% Lasso\n",
    "\n",
    "clf = Lasso(alpha=1)\n",
    "clf.fit(X_poly, y)\n",
    "print(clf.coef_)"
   ]
  },
  {
   "cell_type": "markdown",
   "metadata": {},
   "source": [
    "# train test split"
   ]
  },
  {
   "cell_type": "code",
   "execution_count": 42,
   "metadata": {},
   "outputs": [],
   "source": [
    "split = int(X.shape[0] * 0.8)"
   ]
  },
  {
   "cell_type": "code",
   "execution_count": 44,
   "metadata": {},
   "outputs": [],
   "source": [
    "X_train = X[:split]\n",
    "X_test = X[split:]\n",
    "\n",
    "y_train = y[:split]\n",
    "y_test = y[split:]"
   ]
  },
  {
   "cell_type": "code",
   "execution_count": 51,
   "metadata": {},
   "outputs": [],
   "source": [
    "mean = X_train.mean(axis=0)\n",
    "std = X_train.std(axis=0)\n",
    "\n",
    "X_train = (X_train - mean) / std\n",
    "X_test = (X_test - mean) / std"
   ]
  },
  {
   "cell_type": "code",
   "execution_count": 56,
   "metadata": {},
   "outputs": [],
   "source": [
    "clf = LogisticRegression(verbose=1)"
   ]
  },
  {
   "cell_type": "code",
   "execution_count": 57,
   "metadata": {},
   "outputs": [
    {
     "name": "stderr",
     "output_type": "stream",
     "text": [
      "[Parallel(n_jobs=1)]: Using backend SequentialBackend with 1 concurrent workers.\n",
      "[Parallel(n_jobs=1)]: Done   1 out of   1 | elapsed:    0.0s finished\n"
     ]
    },
    {
     "data": {
      "text/plain": [
       "LogisticRegression(verbose=1)"
      ]
     },
     "execution_count": 57,
     "metadata": {},
     "output_type": "execute_result"
    }
   ],
   "source": [
    "clf.fit(X_train, y_train)"
   ]
  },
  {
   "cell_type": "markdown",
   "metadata": {},
   "source": [
    "# Accuracy"
   ]
  },
  {
   "cell_type": "code",
   "execution_count": 58,
   "metadata": {},
   "outputs": [
    {
     "name": "stdout",
     "output_type": "stream",
     "text": [
      "test score: 0.775\n",
      "train score: 0.871875\n"
     ]
    }
   ],
   "source": [
    "print('test score:', clf.score(X_test, y_test))\n",
    "print('train score:', clf.score(X_train, y_train))"
   ]
  },
  {
   "cell_type": "code",
   "execution_count": 59,
   "metadata": {},
   "outputs": [
    {
     "name": "stdout",
     "output_type": "stream",
     "text": [
      "ACC = 0.871875\n"
     ]
    }
   ],
   "source": [
    "h_train = clf.predict(X_train)\n",
    "print('ACC =', np.mean(h_train == y_train))"
   ]
  },
  {
   "cell_type": "code",
   "execution_count": 60,
   "metadata": {},
   "outputs": [
    {
     "data": {
      "text/plain": [
       "0.871875"
      ]
     },
     "execution_count": 60,
     "metadata": {},
     "output_type": "execute_result"
    }
   ],
   "source": [
    "from sklearn.metrics import accuracy_score\n",
    "\n",
    "accuracy_score(y_train, h_train)"
   ]
  },
  {
   "cell_type": "markdown",
   "metadata": {},
   "source": [
    "# Precision"
   ]
  },
  {
   "cell_type": "code",
   "execution_count": 61,
   "metadata": {},
   "outputs": [
    {
     "name": "stdout",
     "output_type": "stream",
     "text": [
      "test precision: 0.6521739130434783\n",
      "train precision: 0.8666666666666667\n"
     ]
    }
   ],
   "source": [
    "from sklearn.metrics import precision_score\n",
    "\n",
    "h_train = clf.predict(X_train)\n",
    "h_test = clf.predict(X_test)\n",
    "\n",
    "print('test precision:', precision_score(y_test, h_test))\n",
    "print('train precision:', precision_score(y_train, h_train))\n",
    "\n",
    "# TP / (TP + FP)"
   ]
  },
  {
   "cell_type": "markdown",
   "metadata": {},
   "source": [
    "# Recall"
   ]
  },
  {
   "cell_type": "code",
   "execution_count": 62,
   "metadata": {},
   "outputs": [
    {
     "name": "stdout",
     "output_type": "stream",
     "text": [
      "test recall: 0.6\n",
      "train recall: 0.7711864406779662\n"
     ]
    }
   ],
   "source": [
    "from sklearn.metrics import recall_score\n",
    "\n",
    "h_train = clf.predict(X_train)\n",
    "h_test = clf.predict(X_test)\n",
    "\n",
    "print('test recall:', recall_score(y_test, h_test))\n",
    "print('train recall:', recall_score(y_train, h_train))\n",
    "\n",
    "# TP / (TP + FN)"
   ]
  },
  {
   "cell_type": "code",
   "execution_count": 76,
   "metadata": {},
   "outputs": [
    {
     "name": "stdout",
     "output_type": "stream",
     "text": [
      "188\n",
      "188\n"
     ]
    }
   ],
   "source": [
    "# | TP | FP |\n",
    "# | FN | TN |\n",
    "\n",
    "# train\n",
    "# | 91 | 14  |\n",
    "# | 27 | 188 |\n",
    "\n",
    "\n",
    "print(np.sum(np.bitwise_and((y_train == 0), (h_train == 0))))\n",
    "print(np.sum((y_train == 0) * (h_train == 0)))"
   ]
  },
  {
   "cell_type": "code",
   "execution_count": 79,
   "metadata": {},
   "outputs": [
    {
     "data": {
      "text/plain": [
       "0.3125"
      ]
     },
     "execution_count": 79,
     "metadata": {},
     "output_type": "execute_result"
    }
   ],
   "source": [
    "np.sum(y_test == 1) / y_test.shape[0]"
   ]
  },
  {
   "cell_type": "code",
   "execution_count": null,
   "metadata": {},
   "outputs": [],
   "source": [
    "h_train = clf.predict(X_train)\n",
    "h_test = clf.predict(X_test)"
   ]
  },
  {
   "cell_type": "code",
   "execution_count": 102,
   "metadata": {},
   "outputs": [
    {
     "data": {
      "image/png": "[encoded data removed]",
      "text/plain": [
       "<Figure size 432x288 with 1 Axes>"
      ]
     },
     "metadata": {
      "needs_background": "light"
     },
     "output_type": "display_data"
    }
   ],
   "source": [
    "from sklearn.metrics import f1_score\n",
    "\n",
    "test_recalls = []\n",
    "test_precision = []\n",
    "f1 = []\n",
    "\n",
    "for th in np.arange(0, 1, 0.01):\n",
    "    h_train = clf.predict_proba(X_train)[:, 1] > th\n",
    "    h_test = clf.predict_proba(X_test)[:, 1] > th\n",
    "\n",
    "    test_recalls.append(recall_score(y_test, h_test))\n",
    "    test_precision.append(precision_score(y_test, h_test))\n",
    "    f1.append(f1_score(y_test, h_test))\n",
    "    \n",
    "    # print('train precision:', precision_score(y_train, h_train))\n",
    "    # print('train recall:', recall_score(y_train, h_train))\n",
    "    \n",
    "plt.plot(np.arange(0, 1, 0.01), test_recalls, 'r-', label='Recall')\n",
    "plt.plot(np.arange(0, 1, 0.01), test_precision, 'b-', label='Precision')\n",
    "plt.plot(np.arange(0, 1, 0.01), f1, 'k-', label='F1')\n",
    "plt.legend()\n",
    "plt.grid()"
   ]
  },
  {
   "cell_type": "code",
   "execution_count": 87,
   "metadata": {},
   "outputs": [
    {
     "name": "stdout",
     "output_type": "stream",
     "text": [
      "Test:\n",
      "\ttrue positive 0.30000000000000004\n",
      "\tfalse positive 0.2\n",
      "\tfalse negative 0.0125\n",
      "\ttrue negative 0.48750000000000004\n",
      "Train:\n",
      "\ttrue positive 0.3375\n",
      "\tfalse positive 0.13125000000000003\n",
      "\tfalse negative 0.03125\n",
      "\ttrue negative 0.5\n"
     ]
    }
   ],
   "source": [
    "print('Test:')\n",
    "print('\\ttrue positive', np.sum((y_test == 1)*(h_test == 1) / y_test.shape[0]))\n",
    "print('\\tfalse positive', np.sum((y_test == 0)*(h_test == 1) / y_test.shape[0]))\n",
    "print('\\tfalse negative', np.sum((y_test == 1)*(h_test == 0) / y_test.shape[0]))\n",
    "print('\\ttrue negative', np.sum((y_test == 0)*(h_test == 0) / y_test.shape[0]))\n",
    "print('Train:')\n",
    "print('\\ttrue positive', np.sum((y_train == 1)*(h_train == 1) / y_train.shape[0]))\n",
    "print('\\tfalse positive', np.sum((y_train == 0)*(h_train == 1) / y_train.shape[0]))\n",
    "print('\\tfalse negative', np.sum((y_train == 1)*(h_train == 0) / y_train.shape[0]))\n",
    "print('\\ttrue negative', np.sum((y_train == 0)*(h_train == 0) / y_train.shape[0]))"
   ]
  },
  {
   "cell_type": "markdown",
   "metadata": {},
   "source": [
    "# F1-score"
   ]
  },
  {
   "cell_type": "code",
   "execution_count": 99,
   "metadata": {},
   "outputs": [
    {
     "name": "stdout",
     "output_type": "stream",
     "text": [
      "test f1-score: 0.6250000000000001\n",
      "train f1-score: 0.8161434977578474\n"
     ]
    }
   ],
   "source": [
    "from sklearn.metrics import f1_score\n",
    "\n",
    "h_train = clf.predict(X_train)\n",
    "h_test = clf.predict(X_test)\n",
    "\n",
    "print('test f1-score:', f1_score(y_test, h_test))\n",
    "print('train f1-score:', f1_score(y_train, h_train))"
   ]
  },
  {
   "cell_type": "markdown",
   "metadata": {},
   "source": [
    "# ROC - AUC"
   ]
  },
  {
   "cell_type": "code",
   "execution_count": 104,
   "metadata": {},
   "outputs": [
    {
     "name": "stdout",
     "output_type": "stream",
     "text": [
      "test ROC-AUC: 0.8745454545454546\n",
      "train ROC-AUC: 0.9390417855344857\n"
     ]
    }
   ],
   "source": [
    "from sklearn.metrics import roc_auc_score\n",
    "\n",
    "h_test = clf.predict_proba(X_test)[:, 1]\n",
    "h_train = clf.predict_proba(X_train)[:, 1]\n",
    "\n",
    "print('test ROC-AUC:', roc_auc_score(y_test, h_test))\n",
    "print('train ROC-AUC:', roc_auc_score(y_train, h_train))"
   ]
  },
  {
   "cell_type": "code",
   "execution_count": 113,
   "metadata": {},
   "outputs": [
    {
     "name": "stdout",
     "output_type": "stream",
     "text": [
      "0.8745454545454545\n",
      "0.8759999999999999\n",
      "0.8745454545454546\n",
      "0.8745454545454546\n"
     ]
    }
   ],
   "source": [
    "models = [\n",
    "            LogisticRegression(class_weight='balanced'),\n",
    "            LogisticRegression(C=0.01),\n",
    "            LogisticRegression(C=1),\n",
    "            LogisticRegression(C=10)\n",
    "         ]\n",
    "\n",
    "for model in models:\n",
    "    model.fit(X_train, y_train)\n",
    "    h_test = model.predict_proba(X_test)[:, 1]\n",
    "    \n",
    "    print(roc_auc_score(y_test, h_test))"
   ]
  },
  {
   "cell_type": "code",
   "execution_count": 128,
   "metadata": {
    "scrolled": true
   },
   "outputs": [],
   "source": [
    "from sklearn.model_selection import learning_curve\n",
    "\n",
    "clf = LogisticRegression(class_weight='balanced')\n",
    "\n",
    "train_sizes, train_score, test_score = learning_curve(clf, X_train, y_train, cv=5,\n",
    "                                                      train_sizes=np.arange(0.1, 1.001, 0.01))"
   ]
  },
  {
   "cell_type": "code",
   "execution_count": 129,
   "metadata": {},
   "outputs": [
    {
     "data": {
      "image/png": "[encoded data removed]",
      "text/plain": [
       "<Figure size 432x288 with 1 Axes>"
      ]
     },
     "metadata": {
      "needs_background": "light"
     },
     "output_type": "display_data"
    }
   ],
   "source": [
    "plt.plot(train_sizes, train_score.mean(axis=1), 'go-', label='train')\n",
    "plt.plot(train_sizes, test_score.mean(axis=1), 'bo-', label='test')\n",
    "plt.legend()\n",
    "plt.grid()"
   ]
  }
 ],
 "metadata": {
  "kernelspec": {
   "display_name": "Python 3",
   "language": "python",
   "name": "python3"
  },
  "language_info": {
   "codemirror_mode": {
    "name": "ipython",
    "version": 3
   },
   "file_extension": ".py",
   "mimetype": "text/x-python",
   "name": "python",
   "nbconvert_exporter": "python",
   "pygments_lexer": "ipython3",
   "version": "3.8.5"
  }
 },
 "nbformat": 4,
 "nbformat_minor": 2
}
