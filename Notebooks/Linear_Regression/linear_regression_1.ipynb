{
 "cells": [
  {
   "cell_type": "code",
   "execution_count": 17,
   "metadata": {},
   "outputs": [],
   "source": [
    "import numpy as np\n",
    "import matplotlib.pyplot as plt\n",
    "%matplotlib inline"
   ]
  },
  {
   "cell_type": "markdown",
   "metadata": {},
   "source": [
    "# Generating Dataset"
   ]
  },
  {
   "cell_type": "code",
   "execution_count": 19,
   "metadata": {
    "scrolled": true
   },
   "outputs": [
    {
     "data": {
      "text/plain": [
       "(array([  1.,   0.,   0.,   0.,   0.,   0.,   1.,   1.,   1.,   2.,   4.,\n",
       "          5.,  14.,   9.,  10.,  12.,  16.,  14.,  19.,  20.,  25.,  33.,\n",
       "         41.,  50.,  59.,  74.,  73.,  73.,  93., 110., 119., 140., 154.,\n",
       "        166., 164., 212., 217., 242., 237., 272., 272., 285., 300., 296.,\n",
       "        331., 292., 320., 315., 333., 306., 311., 296., 293., 284., 297.,\n",
       "        271., 249., 227., 211., 219., 185., 171., 150., 146., 130., 103.,\n",
       "        106., 108.,  74.,  66.,  57.,  55.,  43.,  29.,  34.,  21.,  22.,\n",
       "         32.,  13.,  10.,  11.,   5.,  10.,   6.,   7.,   3.,   3.,   2.,\n",
       "          0.,   1.,   1.,   2.,   0.,   1.,   0.,   0.,   0.,   1.,   0.,\n",
       "          1.]),\n",
       " array([-38.22198444, -37.42161912, -36.62125381, -35.82088849,\n",
       "        -35.02052317, -34.22015785, -33.41979254, -32.61942722,\n",
       "        -31.8190619 , -31.01869658, -30.21833126, -29.41796595,\n",
       "        -28.61760063, -27.81723531, -27.01686999, -26.21650467,\n",
       "        -25.41613936, -24.61577404, -23.81540872, -23.0150434 ,\n",
       "        -22.21467809, -21.41431277, -20.61394745, -19.81358213,\n",
       "        -19.01321681, -18.2128515 , -17.41248618, -16.61212086,\n",
       "        -15.81175554, -15.01139022, -14.21102491, -13.41065959,\n",
       "        -12.61029427, -11.80992895, -11.00956364, -10.20919832,\n",
       "         -9.408833  ,  -8.60846768,  -7.80810236,  -7.00773705,\n",
       "         -6.20737173,  -5.40700641,  -4.60664109,  -3.80627577,\n",
       "         -3.00591046,  -2.20554514,  -1.40517982,  -0.6048145 ,\n",
       "          0.19555081,   0.99591613,   1.79628145,   2.59664677,\n",
       "          3.39701209,   4.1973774 ,   4.99774272,   5.79810804,\n",
       "          6.59847336,   7.39883868,   8.19920399,   8.99956931,\n",
       "          9.79993463,  10.60029995,  11.40066526,  12.20103058,\n",
       "         13.0013959 ,  13.80176122,  14.60212654,  15.40249185,\n",
       "         16.20285717,  17.00322249,  17.80358781,  18.60395313,\n",
       "         19.40431844,  20.20468376,  21.00504908,  21.8054144 ,\n",
       "         22.60577971,  23.40614503,  24.20651035,  25.00687567,\n",
       "         25.80724099,  26.6076063 ,  27.40797162,  28.20833694,\n",
       "         29.00870226,  29.80906758,  30.60943289,  31.40979821,\n",
       "         32.21016353,  33.01052885,  33.81089416,  34.61125948,\n",
       "         35.4116248 ,  36.21199012,  37.01235544,  37.81272075,\n",
       "         38.61308607,  39.41345139,  40.21381671,  41.01418203,\n",
       "         41.81454734]),\n",
       " <BarContainer object of 100 artists>)"
      ]
     },
     "execution_count": 19,
     "metadata": {},
     "output_type": "execute_result"
    },
    {
     "data": {
      "image/png": "[encoded data removed]",
      "text/plain": [
       "<Figure size 432x288 with 1 Axes>"
      ]
     },
     "metadata": {
      "needs_background": "light"
     },
     "output_type": "display_data"
    }
   ],
   "source": [
    "plt.hist(np.random.normal(scale=10, size=10000), bins=100)"
   ]
  },
  {
   "cell_type": "code",
   "execution_count": 19,
   "metadata": {},
   "outputs": [],
   "source": [
    "X = np.random.rand(100) * 20\n",
    "y = 2.358 * X - 3.121\n",
    "y = y + np.random.normal(scale=3, size=y.shape)"
   ]
  },
  {
   "cell_type": "code",
   "execution_count": 20,
   "metadata": {},
   "outputs": [
    {
     "data": {
      "text/plain": [
       "[<matplotlib.lines.Line2D at 0x7f42162630d0>]"
      ]
     },
     "execution_count": 20,
     "metadata": {},
     "output_type": "execute_result"
    },
    {
     "data": {
      "image/png": "[encoded data removed]",
      "text/plain": [
       "<Figure size 432x288 with 1 Axes>"
      ]
     },
     "metadata": {
      "needs_background": "light"
     },
     "output_type": "display_data"
    }
   ],
   "source": [
    "plt.plot(X, y, 'bo')"
   ]
  },
  {
   "cell_type": "markdown",
   "metadata": {},
   "source": [
    "# Line Equation\n",
    "\n",
    "intercept form\n",
    "<img src=\"https://latex.codecogs.com/svg.latex?\\frac{x}{a}+\\frac{y}{b}=1\"/>\n",
    "standard form\n",
    "<img src=\"https://latex.codecogs.com/svg.latex?ax+by=c\"/>\n",
    "point-slope Form\n",
    "<img src=\"https://latex.codecogs.com/svg.latex?y-y_1=m(x-x_1)\"/>\n",
    "slope-intercept Form\n",
    "<img src=\"https://latex.codecogs.com/svg.latex?y=mx+b\"/>"
   ]
  },
  {
   "cell_type": "code",
   "execution_count": 82,
   "metadata": {},
   "outputs": [
    {
     "data": {
      "text/plain": [
       "<matplotlib.legend.Legend at 0x7f7819ed97c0>"
      ]
     },
     "execution_count": 82,
     "metadata": {},
     "output_type": "execute_result"
    },
    {
     "data": {
      "image/png": "[encoded data removed]",
      "text/plain": [
       "<Figure size 432x288 with 1 Axes>"
      ]
     },
     "metadata": {
      "needs_background": "light"
     },
     "output_type": "display_data"
    }
   ],
   "source": [
    "# y = mx + b\n",
    "m = 2.5\n",
    "b = -3.5\n",
    " \n",
    "x_line = np.array([X.min() - 5, X.max() + 5])\n",
    "y_line = m * x_line + b\n",
    "\n",
    "plt.plot(x_line, y_line, 'r--', label='Line')\n",
    "plt.plot(X,  y, 'bo', label='Data')\n",
    "plt.legend()"
   ]
  },
  {
   "cell_type": "markdown",
   "metadata": {},
   "source": [
    "# Finding Best Line"
   ]
  },
  {
   "cell_type": "code",
   "execution_count": 86,
   "metadata": {
    "scrolled": true
   },
   "outputs": [
    {
     "name": "stdout",
     "output_type": "stream",
     "text": [
      "data point 0:\t actual : 23.96435269845879,\t predicted: 29.018192687072396\n",
      "data point 1:\t actual : 21.099642958935462,\t predicted: 22.58508580669084\n",
      "data point 2:\t actual : 18.62667963572289,\t predicted: 19.432599184095416\n",
      "data point 3:\t actual : 11.208034280775344,\t predicted: 8.937967593440865\n",
      "data point 4:\t actual : 13.103305567119456,\t predicted: 13.135160162033037\n",
      "data point 5:\t actual : 2.437270946520879,\t predicted: 1.1857893344600838\n",
      "data point 6:\t actual : -0.446981120689506,\t predicted: 2.6086836421675668\n",
      "data point 7:\t actual : 36.120010337339316,\t predicted: 33.55055163969485\n",
      "data point 8:\t actual : -0.11702818066227072,\t predicted: 0.801594654676852\n",
      "data point 9:\t actual : 23.325834622053517,\t predicted: 18.935528195752457\n",
      "data point 10:\t actual : 40.98616286390703,\t predicted: 39.351289939044776\n",
      "data point 11:\t actual : 12.39607606743409,\t predicted: 9.955457442892142\n",
      "data point 12:\t actual : 34.43236003884912,\t predicted: 33.231526144935984\n",
      "data point 13:\t actual : 14.412556905403607,\t predicted: 14.652157877442749\n",
      "data point 14:\t actual : 43.35487537945842,\t predicted: 41.329879843004804\n",
      "data point 15:\t actual : 34.65935679107732,\t predicted: 33.89096922450583\n",
      "data point 16:\t actual : 15.986428048803539,\t predicted: 20.43254288254142\n",
      "data point 17:\t actual : 26.19902845125871,\t predicted: 29.16362548224824\n",
      "data point 18:\t actual : 46.190630405241386,\t predicted: 43.93398283273626\n",
      "data point 19:\t actual : 24.65252843463386,\t predicted: 21.991139687210993\n",
      "data point 20:\t actual : 36.1014233385378,\t predicted: 35.88216421960469\n",
      "data point 21:\t actual : 1.588489897424993,\t predicted: 1.3588286580129316\n",
      "data point 22:\t actual : 18.84987904717854,\t predicted: 18.38917925056971\n",
      "data point 23:\t actual : 8.359005030176077,\t predicted: 8.032694999283892\n",
      "data point 24:\t actual : 35.231596330127374,\t predicted: 34.405659201750616\n",
      "data point 25:\t actual : 3.8694096346722104,\t predicted: 7.6472243425269575\n",
      "data point 26:\t actual : 13.331167983464464,\t predicted: 17.1262157800092\n",
      "data point 27:\t actual : 14.920573449207879,\t predicted: 17.08440606540672\n",
      "data point 28:\t actual : 12.517085886147052,\t predicted: 16.185670821844138\n",
      "data point 29:\t actual : 12.613070716647867,\t predicted: 7.636264578579267\n",
      "data point 30:\t actual : 10.81324062873777,\t predicted: 5.787794858598637\n",
      "data point 31:\t actual : 1.470602310731238,\t predicted: 5.336304035316326\n",
      "data point 32:\t actual : 35.23032387743067,\t predicted: 32.152327929632506\n",
      "data point 33:\t actual : 42.52790112001095,\t predicted: 37.42197457359814\n",
      "data point 34:\t actual : -1.0115467870787982,\t predicted: -2.183264183816042\n",
      "data point 35:\t actual : 7.891179257391369,\t predicted: 7.739773908882041\n",
      "data point 36:\t actual : 40.98872998706998,\t predicted: 41.25675294346356\n",
      "data point 37:\t actual : 34.14993190262196,\t predicted: 35.18994407935701\n",
      "data point 38:\t actual : 26.815948484048132,\t predicted: 24.702751196937733\n",
      "data point 39:\t actual : 38.29647017478895,\t predicted: 34.70077787372214\n",
      "data point 40:\t actual : 35.138125542654585,\t predicted: 40.14613934492224\n",
      "data point 41:\t actual : 25.226169650766778,\t predicted: 22.30005575184538\n",
      "data point 42:\t actual : 10.51307255444518,\t predicted: 8.27494594625108\n",
      "data point 43:\t actual : -2.1480730357583737,\t predicted: 1.546973139538705\n",
      "data point 44:\t actual : 4.7913340615234326,\t predicted: 2.029705447504582\n",
      "data point 45:\t actual : 0.9934624356513613,\t predicted: 5.417740523095809\n",
      "data point 46:\t actual : 38.39446012568981,\t predicted: 37.444456824837495\n",
      "data point 47:\t actual : 2.189466481053817,\t predicted: 1.3320902056983877\n",
      "data point 48:\t actual : 16.531277766739965,\t predicted: 16.746143239124123\n",
      "data point 49:\t actual : 9.07391133308476,\t predicted: 12.200470940591424\n",
      "data point 50:\t actual : 31.791033498254635,\t predicted: 26.816667504323284\n",
      "data point 51:\t actual : 22.164575989903586,\t predicted: 19.439838338221644\n",
      "data point 52:\t actual : 42.19478561093982,\t predicted: 37.187181890123306\n",
      "data point 53:\t actual : 33.03363736302957,\t predicted: 34.436248317840175\n",
      "data point 54:\t actual : -2.381803021462955,\t predicted: -2.458812679331725\n",
      "data point 55:\t actual : 33.87920252038221,\t predicted: 38.41821053185776\n",
      "data point 56:\t actual : 39.770981140764796,\t predicted: 37.70249544299741\n",
      "data point 57:\t actual : 38.80837703373073,\t predicted: 40.43924985631246\n",
      "data point 58:\t actual : 27.783348096658827,\t predicted: 24.145939750252467\n",
      "data point 59:\t actual : 15.821872505883453,\t predicted: 16.873772227766764\n",
      "data point 60:\t actual : 32.12100181230488,\t predicted: 32.49737463169261\n",
      "data point 61:\t actual : 40.501935733891344,\t predicted: 43.673787988383864\n",
      "data point 62:\t actual : 13.61538109212506,\t predicted: 18.54704395926413\n",
      "data point 63:\t actual : 30.923359885019124,\t predicted: 27.684305885632728\n",
      "data point 64:\t actual : -2.7616774423468753,\t predicted: -2.1696007246656306\n",
      "data point 65:\t actual : 36.60346665693409,\t predicted: 33.50830873234371\n",
      "data point 66:\t actual : 6.290590993623596,\t predicted: 8.849505081500942\n",
      "data point 67:\t actual : 18.344336828138793,\t predicted: 16.233930982154646\n",
      "data point 68:\t actual : 7.40949394997669,\t predicted: 4.205119655252551\n",
      "data point 69:\t actual : -3.4297078714470186,\t predicted: -3.0886269601954073\n",
      "data point 70:\t actual : 1.8353750288300452,\t predicted: 0.361822042258062\n",
      "data point 71:\t actual : 27.30088890195426,\t predicted: 26.69337513891854\n",
      "data point 72:\t actual : 29.717845310595095,\t predicted: 28.37671812433097\n",
      "data point 73:\t actual : 25.481558440366392,\t predicted: 29.925113894906612\n",
      "data point 74:\t actual : 1.080679364595721,\t predicted: 1.9355013397127068\n",
      "data point 75:\t actual : -0.9700454668871696,\t predicted: 5.084876813986366\n",
      "data point 76:\t actual : 26.323434190121404,\t predicted: 24.180642473056402\n",
      "data point 77:\t actual : 27.734402481673534,\t predicted: 31.009679436088756\n",
      "data point 78:\t actual : 23.927813569897417,\t predicted: 25.68103384405544\n",
      "data point 79:\t actual : 3.8166541920936727,\t predicted: 4.292804946020334\n",
      "data point 80:\t actual : 36.563761718494845,\t predicted: 33.903561902060616\n",
      "data point 81:\t actual : 30.632616822160244,\t predicted: 31.185296102612252\n",
      "data point 82:\t actual : 6.389358873937819,\t predicted: 9.280895933924215\n",
      "data point 83:\t actual : 26.861061496067133,\t predicted: 27.211487039581773\n",
      "data point 84:\t actual : 6.973045964431827,\t predicted: 12.210853618898117\n",
      "data point 85:\t actual : 25.193992027186567,\t predicted: 19.64732920885196\n",
      "data point 86:\t actual : 27.860741041694826,\t predicted: 29.92942175650526\n",
      "data point 87:\t actual : 18.854071479978973,\t predicted: 16.473172754571724\n",
      "data point 88:\t actual : 17.31044805873958,\t predicted: 20.7725244626477\n",
      "data point 89:\t actual : 5.483609307435192,\t predicted: 10.607094590339095\n",
      "data point 90:\t actual : 2.252825869407285,\t predicted: 3.087585724881895\n",
      "data point 91:\t actual : 35.16951690883778,\t predicted: 39.96520914606462\n",
      "data point 92:\t actual : 23.22525141659404,\t predicted: 23.64443860317291\n",
      "data point 93:\t actual : 21.22510597457166,\t predicted: 20.801230004154842\n",
      "data point 94:\t actual : 35.905763306019715,\t predicted: 38.0668948950736\n",
      "data point 95:\t actual : 4.346205112517326,\t predicted: 9.496958468012398\n",
      "data point 96:\t actual : 36.71851004137405,\t predicted: 29.77144860533539\n",
      "data point 97:\t actual : 30.031375999435657,\t predicted: 30.998988398285842\n",
      "data point 98:\t actual : 3.773317939040977,\t predicted: 9.962733747971656\n",
      "data point 99:\t actual : 22.884873717319355,\t predicted: 22.31578908336958\n"
     ]
    }
   ],
   "source": [
    "# y = mx + b\n",
    "m = 2.358\n",
    "b = -3.121\n",
    "\n",
    "h = m * X + b\n",
    "\n",
    "for i in range(X.shape[0]):\n",
    "    print('data point {}:\\t actual : {},\\t predicted: {}'.format(i, y[i], h[i]))"
   ]
  },
  {
   "cell_type": "code",
   "execution_count": 88,
   "metadata": {
    "scrolled": true
   },
   "outputs": [
    {
     "name": "stdout",
     "output_type": "stream",
     "text": [
      "data point 0:\terror: -3.295352718905413\n",
      "data point 1:\terror: -0.7036528906750874\n",
      "data point 2:\terror: -0.5027513940442105\n",
      "data point 3:\terror: 0.9799023100875868\n",
      "data point 4:\terror: -0.6847861733665788\n",
      "data point 5:\terror: -1.21564621587105\n",
      "data point 6:\terror: -5.306763684020776\n",
      "data point 7:\terror: 5.016064926232573\n",
      "data point 8:\terror: -3.444080474705402\n",
      "data point 9:\terror: 4.618007484010722\n",
      "data point 10:\terror: 4.962168004666339\n",
      "data point 11:\terror: 1.3049331981447416\n",
      "data point 12:\terror: 3.599004529997565\n",
      "data point 13:\terror: -0.6622165275418954\n",
      "data point 14:\terror: 5.652687217452652\n",
      "data point 15:\terror: 3.2666772113437936\n",
      "data point 16:\terror: -3.991131648008519\n",
      "data point 17:\terror: -1.1840296337694802\n",
      "data point 18:\terror: 6.279703490282721\n",
      "data point 19:\terror: 3.3530036787297135\n",
      "data point 20:\terror: 3.0198591149545138\n",
      "data point 21:\terror: -2.211195139057561\n",
      "data point 22:\terror: 0.6054522019116106\n",
      "data point 23:\terror: -1.1012960718458853\n",
      "data point 24:\terror: 3.402368847726514\n",
      "data point 25:\terror: -5.263944345418508\n",
      "data point 26:\terror: -3.842043025873277\n",
      "data point 27:\terror: -2.2171755460480327\n",
      "data point 28:\terror: -3.8583770670710447\n",
      "data point 29:\terror: 3.4890125499139675\n",
      "data point 30:\terror: 3.2570108928610626\n",
      "data point 31:\terror: -5.702683554677012\n",
      "data point 32:\terror: 5.312318848056197\n",
      "data point 33:\terror: 8.140306061827623\n",
      "data point 34:\terror: -1.8069121952076856\n",
      "data point 35:\terror: -1.3206730826273256\n",
      "data point 36:\terror: 3.3485663369736614\n",
      "data point 37:\terror: 1.6554924799272897\n",
      "data point 38:\terror: 3.216498783507223\n",
      "data point 39:\terror: 6.216929993514874\n",
      "data point 40:\terror: -1.5600418406552023\n",
      "data point 41:\terror: 3.6646295728656924\n",
      "data point 42:\terror: 0.8472999113144937\n",
      "data point 43:\terror: -6.107337785155069\n",
      "data point 44:\terror: 0.42262715100215864\n",
      "data point 45:\terror: -6.2488959384757035\n",
      "data point 46:\terror: 3.9877961521211134\n",
      "data point 47:\terror: -1.5875396306496499\n",
      "data point 48:\terror: -0.3195646752652266\n",
      "data point 49:\terror: -3.9213990490962605\n",
      "data point 50:\terror: 6.398609830465592\n",
      "data point 51:\terror: 3.0290048803008354\n",
      "data point 52:\terror: 8.00633617063167\n",
      "data point 53:\terror: 1.178464913631629\n",
      "data point 54:\terror: -2.9434546929373187\n",
      "data point 55:\terror: -1.3533763870459197\n",
      "data point 56:\terror: 5.145454895644008\n",
      "data point 57:\terror: 1.8616002260017552\n",
      "data point 58:\terror: 4.656172735969715\n",
      "data point 59:\terror: -1.1372218348856418\n",
      "data point 60:\terror: 1.9103363062042824\n",
      "data point 61:\terror: 0.8116999506989231\n",
      "data point 62:\terror: -4.762942876716439\n",
      "data point 63:\terror: 4.795025800512995\n",
      "data point 64:\terror: -3.5686318743522776\n",
      "data point 65:\terror: 5.535350683784209\n",
      "data point 66:\terror: -3.862509160321224\n",
      "data point 67:\terror: 1.9279407448863388\n",
      "data point 68:\terror: 1.1956520031975968\n",
      "data point 69:\terror: -3.457165920475511\n",
      "data point 70:\terror: -1.1186725048918056\n",
      "data point 71:\terror: 2.013038911353295\n",
      "data point 72:\terror: 3.002223491824129\n",
      "data point 73:\terror: -2.5473761609114796\n",
      "data point 74:\terror: -3.2081258429638266\n",
      "data point 75:\terror: -7.930076691642357\n",
      "data point 76:\terror: 3.166824798216062\n",
      "data point 77:\terror: -1.2144350383338889\n",
      "data point 78:\terror: -0.5013924047043119\n",
      "data point 79:\terror: -2.471560350756484\n",
      "data point 80:\terror: 5.1604013265859265\n",
      "data point 81:\terror: 1.534825386526446\n",
      "data point 82:\terror: -4.129636829136156\n",
      "data point 83:\terror: 1.1337612080418822\n",
      "data point 84:\terror: -6.0310707606725975\n",
      "data point 85:\terror: 5.882432053605601\n",
      "data point 86:\terror: -0.1718473862146368\n",
      "data point 87:\terror: 2.234756166516952\n",
      "data point 88:\terror: -2.9554759977894243\n",
      "data point 89:\terror: -6.160236825167941\n",
      "data point 90:\terror: -3.013150148304246\n",
      "data point 91:\terror: -1.3751897460092337\n",
      "data point 92:\terror: 0.5234375038095536\n",
      "data point 93:\terror: 0.934834554593003\n",
      "data point 94:\terror: 0.9711620379335386\n",
      "data point 95:\terror: -6.356049737365963\n",
      "data point 96:\terror: 8.819910715389838\n",
      "data point 97:\terror: 1.0916063656054256\n",
      "data point 98:\terror: -7.3239965206466024\n",
      "data point 99:\terror: 1.3099889986004598\n"
     ]
    }
   ],
   "source": [
    "# y = mx + b\n",
    "m = 2\n",
    "b = -0\n",
    "\n",
    "h = m * X + b\n",
    "\n",
    "for i in range(X.shape[0]):\n",
    "    print('data point {}:\\terror: {}'.format(i, y[i] - h[i]))"
   ]
  },
  {
   "cell_type": "code",
   "execution_count": 90,
   "metadata": {
    "scrolled": true
   },
   "outputs": [
    {
     "name": "stdout",
     "output_type": "stream",
     "text": [
      "data point 0:\terror: 5.268644104186471\n",
      "data point 1:\terror: 0.0878216092052317\n",
      "data point 2:\terror: 0.24725617612497597\n",
      "data point 3:\terror: 3.9200131574901627\n",
      "data point 4:\terror: 0.09935975650088454\n",
      "data point 5:\terror: 0.04650329041950347\n",
      "data point 6:\terror: 18.548213430000207\n",
      "data point 7:\terror: 36.19303719664574\n",
      "data point 8:\terror: 5.973529366836184\n",
      "data point 9:\terror: 31.56200809040048\n",
      "data point 10:\terror: 35.54744731586699\n",
      "data point 11:\terror: 5.3127170479097465\n",
      "data point 12:\terror: 21.15084266693812\n",
      "data point 13:\terror: 0.1140976742658551\n",
      "data point 14:\terror: 44.2582472132579\n",
      "data point 15:\terror: 18.20453442580045\n",
      "data point 16:\terror: 8.94686853571816\n",
      "data point 17:\terror: 0.03386690610532902\n",
      "data point 18:\terror: 52.99408290643443\n",
      "data point 19:\terror: 18.94864102703442\n",
      "data point 20:\terror: 16.159267304082885\n",
      "data point 21:\terror: 1.4669936648766646\n",
      "data point 22:\terror: 2.577476772622839\n",
      "data point 23:\terror: 0.010260894171406755\n",
      "data point 24:\terror: 19.380851471432873\n",
      "data point 25:\terror: 18.18122138082647\n",
      "data point 26:\terror: 8.077208560914933\n",
      "data point 27:\terror: 1.4815163098973265\n",
      "data point 28:\terror: 8.170319457557667\n",
      "data point 29:\terror: 20.151233673285102\n",
      "data point 30:\terror: 18.122141741937742\n",
      "data point 31:\terror: 22.11523261542962\n",
      "data point 32:\terror: 39.84536923952552\n",
      "data point 33:\terror: 83.54519490388279\n",
      "data point 34:\terror: 0.6511072907748862\n",
      "data point 35:\terror: 0.10283122592171161\n",
      "data point 36:\terror: 18.910029187060527\n",
      "data point 37:\terror: 7.051640310950387\n",
      "data point 38:\terror: 17.778861991317893\n",
      "data point 39:\terror: 52.0840785312946\n",
      "data point 40:\terror: 0.31364686328446706\n",
      "data point 41:\terror: 21.75876905205317\n",
      "data point 42:\terror: 3.412516962342536\n",
      "data point 43:\terror: 26.084899251672688\n",
      "data point 44:\terror: 2.0238680107685187\n",
      "data point 45:\terror: 27.550908572946735\n",
      "data point 46:\terror: 24.878110455114186\n",
      "data point 47:\terror: 0.345202817583927\n",
      "data point 48:\terror: 0.46299223114691657\n",
      "data point 49:\terror: 8.534572404060535\n",
      "data point 50:\terror: 54.7394274234621\n",
      "data point 51:\terror: 16.232880325487947\n",
      "data point 52:\terror: 81.11409121842833\n",
      "data point 53:\terror: 4.745709379924061\n",
      "data point 54:\terror: 3.7770161435000875\n",
      "data point 55:\terror: 0.12487487092162762\n",
      "data point 56:\terror: 37.7666158743949\n",
      "data point 57:\terror: 8.188755853453296\n",
      "data point 58:\terror: 31.992290019127132\n",
      "data point 59:\terror: 0.018829831969382333\n",
      "data point 60:\terror: 8.470057415210787\n",
      "data point 61:\terror: 3.2822567113624803\n",
      "data point 62:\terror: 14.159739093430987\n",
      "data point 63:\terror: 33.58232402861128\n",
      "data point 64:\terror: 6.5978697059384945\n",
      "data point 65:\terror: 42.71080856003873\n",
      "data point 66:\terror: 8.19395869292292\n",
      "data point 67:\terror: 8.57283700556557\n",
      "data point 68:\terror: 4.820887719145619\n",
      "data point 69:\terror: 6.037664360746266\n",
      "data point 70:\terror: 0.014083163417295621\n",
      "data point 71:\terror: 9.07840348132905\n",
      "data point 72:\terror: 16.017792878508924\n",
      "data point 73:\terror: 2.394372983357149\n",
      "data point 74:\terror: 4.87581973836471\n",
      "data point 75:\terror: 48.02596295204468\n",
      "data point 76:\terror: 17.362428899028327\n",
      "data point 77:\terror: 0.04598238566525639\n",
      "data point 78:\terror: 0.24860953408654868\n",
      "data point 79:\terror: 2.165489865918546\n",
      "data point 80:\terror: 37.950544504601645\n",
      "data point 81:\terror: 6.425339740178947\n",
      "data point 82:\terror: 9.794626682285411\n",
      "data point 83:\terror: 4.552936892944352\n",
      "data point 84:\terror: 25.31167299889475\n",
      "data point 85:\terror: 47.36787097249782\n",
      "data point 86:\terror: 0.685836751719529\n",
      "data point 87:\terror: 10.463647456819448\n",
      "data point 88:\terror: 3.8238863779305445\n",
      "data point 89:\terror: 26.628044091819316\n",
      "data point 90:\terror: 4.052773519617409\n",
      "data point 91:\terror: 0.14076734551047332\n",
      "data point 92:\terror: 2.3208618280134834\n",
      "data point 93:\terror: 3.7435847536471045\n",
      "data point 94:\terror: 3.885479779790301\n",
      "data point 95:\terror: 28.687268789137995\n",
      "data point 96:\terror: 96.43064645822817\n",
      "data point 97:\terror: 4.3748171886411376\n",
      "data point 98:\terror: 39.992931993150336\n",
      "data point 99:\terror: 5.336049173655155\n"
     ]
    }
   ],
   "source": [
    "# y = mx + b\n",
    "m = 2\n",
    "b = -1\n",
    "\n",
    "h = m * X + b\n",
    "\n",
    "for i in range(X.shape[0]):\n",
    "    print('data point {}:\\terror: {}'.format(i, (y[i] - h[i]) ** 2))"
   ]
  },
  {
   "cell_type": "code",
   "execution_count": 108,
   "metadata": {},
   "outputs": [
    {
     "name": "stdout",
     "output_type": "stream",
     "text": [
      "total error: 4.544610067476762\n"
     ]
    }
   ],
   "source": [
    "# y = mx + b\n",
    "m = 2.358\n",
    "b = -3.121\n",
    "\n",
    "h = m * X + b\n",
    "\n",
    "print('total error: {}'.format(np.mean((y - h) ** 2) / 2))"
   ]
  },
  {
   "cell_type": "markdown",
   "metadata": {},
   "source": [
    "<img src=\"https://latex.codecogs.com/svg.latex?MSE=\\frac{1}{2N}\\sum_{i=1}^N(y_i-\\hat{y}_i)^2\"/>"
   ]
  },
  {
   "cell_type": "code",
   "execution_count": 21,
   "metadata": {},
   "outputs": [],
   "source": [
    "def MSE(actual, predicted):\n",
    "    return np.mean((actual - predicted) ** 2) / 2"
   ]
  },
  {
   "cell_type": "code",
   "execution_count": 24,
   "metadata": {},
   "outputs": [
    {
     "name": "stdout",
     "output_type": "stream",
     "text": [
      "best line fit: 2.2699999999999942 * x + -2.0800000000000196 and cost is 4.063853790447525\n"
     ]
    }
   ],
   "source": [
    "min_cost = np.inf\n",
    "best_m = None\n",
    "best_b = None\n",
    "\n",
    "for m in np.arange(2, 3, 0.01):\n",
    "    for b in np.arange(-3, -2, 0.01):\n",
    "        h = m * X + b\n",
    "        cost = MSE(y, h)\n",
    "        if cost < min_cost:\n",
    "            min_cost = cost\n",
    "            best_m = m\n",
    "            best_b = b\n",
    "print('best line fit: {} * x + {} and cost is {}'.format(best_m, best_b, min_cost))"
   ]
  },
  {
   "cell_type": "code",
   "execution_count": 35,
   "metadata": {},
   "outputs": [
    {
     "data": {
      "text/plain": [
       "array([[12755.92709409, 12741.57706657, 12727.23703906, ...,\n",
       "        10122.03167353, 10109.65164602, 10097.2816185 ],\n",
       "       [12558.11145896, 12543.87196616, 12529.64247335, ...,\n",
       "         9945.99137613,  9933.72188332,  9921.46239052],\n",
       "       [12361.84297829, 12347.71402019, 12333.59506209, ...,\n",
       "         9771.49823318,  9759.33927508,  9747.19031699],\n",
       "       ...,\n",
       "       [ 3655.6108263 ,  3663.03613651,  3670.47144672, ...,\n",
       "         5311.45693776,  5320.85224797,  5330.25755818],\n",
       "       [ 3762.58461823,  3770.12046315,  3777.66630807, ...,\n",
       "         5440.20606743,  5449.71191235,  5459.22775727],\n",
       "       [ 3871.10556462,  3878.75194425,  3886.40832388, ...,\n",
       "         5570.50235154,  5580.11873117,  5589.7451108 ]])"
      ]
     },
     "execution_count": 35,
     "metadata": {},
     "output_type": "execute_result"
    }
   ],
   "source": [
    "MSE_cost_matrix"
   ]
  },
  {
   "cell_type": "code",
   "execution_count": 34,
   "metadata": {},
   "outputs": [
    {
     "name": "stderr",
     "output_type": "stream",
     "text": [
      "<ipython-input-34-4440ab23c361>:11: MatplotlibDeprecationWarning: shading='flat' when X and Y have the same dimensions as C is deprecated since 3.3.  Either specify the corners of the quadrilaterals with X and Y, or pass shading='auto', 'nearest' or 'gouraud', or set rcParams['pcolor.shading'].  This will become an error two minor releases later.\n",
      "  plt.pcolormesh(all_m_values, all_b_values, MSE_cost_matrix)\n"
     ]
    },
    {
     "data": {
      "text/plain": [
       "<matplotlib.colorbar.Colorbar at 0x7f42166609a0>"
      ]
     },
     "execution_count": 34,
     "metadata": {},
     "output_type": "execute_result"
    },
    {
     "data": {
      "image/png": "[encoded data removed]",
      "text/plain": [
       "<Figure size 432x288 with 2 Axes>"
      ]
     },
     "metadata": {
      "needs_background": "light"
     },
     "output_type": "display_data"
    }
   ],
   "source": [
    "MSE_cost_matrix = np.zeros((200, 200))\n",
    "\n",
    "all_m_values = np.arange(-10, 10, 0.1)\n",
    "all_b_values = np.arange(-10, 10, 0.1)\n",
    "\n",
    "for i, m in enumerate(all_m_values):\n",
    "    for j, b in enumerate(all_b_values):\n",
    "        h = m * X + b\n",
    "        MSE_cost_matrix[i, j] = MSE(y, h)\n",
    "        \n",
    "plt.pcolormesh(all_m_values, all_b_values, MSE_cost_matrix)\n",
    "plt.ylabel('b')\n",
    "plt.xlabel('m')\n",
    "plt.colorbar()"
   ]
  },
  {
   "cell_type": "code",
   "execution_count": null,
   "metadata": {},
   "outputs": [],
   "source": []
  }
 ],
 "metadata": {
  "kernelspec": {
   "display_name": "Python 3",
   "language": "python",
   "name": "python3"
  },
  "language_info": {
   "codemirror_mode": {
    "name": "ipython",
    "version": 3
   },
   "file_extension": ".py",
   "mimetype": "text/x-python",
   "name": "python",
   "nbconvert_exporter": "python",
   "pygments_lexer": "ipython3",
   "version": "3.8.5"
  }
 },
 "nbformat": 4,
 "nbformat_minor": 2
}
