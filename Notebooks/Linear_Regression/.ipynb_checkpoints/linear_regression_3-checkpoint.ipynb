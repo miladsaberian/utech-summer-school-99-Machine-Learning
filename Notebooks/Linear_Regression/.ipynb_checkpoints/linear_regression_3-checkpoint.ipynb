{
 "cells": [
  {
   "cell_type": "markdown",
   "metadata": {},
   "source": [
    "# Derivatives\n",
    "\n",
    "we want to find minimum of MSE. so derivatives of MSE should be zero\n",
    "\n",
    "<img src=\"https://latex.codecogs.com/svg.latex?\\nabla MSE=[\\frac{\\partial MSE}{\\partial m}, \\frac{\\partial MSE}{\\partial b}]\"/>\n",
    "<img src=\"https://latex.codecogs.com/svg.latex?MSE=\\frac{1}{2N}\\sum_{i=1}^N(y_i-(mx_i+b))^2\"/>\n",
    "\n",
    "<img src=\"https://latex.codecogs.com/svg.latex?\\begin{cases}\\frac{\\partial y_i-mx_i-b}{\\partial m}=-x_i\\\\\\frac{\\partial y_i-mx_i-b}{\\partial b}=-1\\end{cases}\"/>\n",
    "\n",
    "<img src=\"https://latex.codecogs.com/svg.latex?\\begin{cases}\\frac{\\partial (y_i-mx_i-b)^2}{\\partial m}=2*(y_i-mx_i-b)*(-x_i)\\\\\\frac{\\partial (y_i-mx_i-b)^2}{\\partial b}=2*(y_i-mx_i-b)*(-1)\\end{cases}\"/>\n",
    "\n",
    "<img src=\"https://latex.codecogs.com/svg.latex?\\begin{cases}\\frac{\\partial MSE}{\\partial m}=\\frac{1}{N}\\sum_{i=1}^N-(y_i-mx_i-b)x_i\\\\\\frac{\\partial MSE}{\\partial b}=\\frac{1}{N}\\sum_{i=1}^N-(y_i-mx_i-b)\\end{cases}\"/>\n",
    "\n",
    "<img src=\"https://latex.codecogs.com/svg.latex?\\begin{cases}\\frac{\\partial MSE}{\\partial m}=-\\frac{1}{N}\\sum_{i=1}^N(y_i-h_i)x_i\\\\\\frac{\\partial MSE}{\\partial b}=-\\frac{1}{N}\\sum_{i=1}^N(y_i-h_i)\\end{cases}\"/>"
   ]
  },
  {
   "cell_type": "code",
   "execution_count": 1,
   "metadata": {},
   "outputs": [],
   "source": [
    "import numpy as np\n",
    "import matplotlib.pyplot as plt\n",
    "%matplotlib inline"
   ]
  },
  {
   "cell_type": "markdown",
   "metadata": {},
   "source": [
    "# Generating Dataset"
   ]
  },
  {
   "cell_type": "code",
   "execution_count": 3,
   "metadata": {},
   "outputs": [],
   "source": [
    "x = np.random.rand(100, 1) * 20\n",
    "y = 2.358 * x - 3.121\n",
    "y = y + np.random.normal(scale=3, size=y.shape)\n",
    "dataset = np.hstack((x, y))"
   ]
  },
  {
   "cell_type": "code",
   "execution_count": 4,
   "metadata": {},
   "outputs": [],
   "source": [
    "X = dataset[:, 0]\n",
    "y = dataset[:, 1]"
   ]
  },
  {
   "cell_type": "code",
   "execution_count": 5,
   "metadata": {},
   "outputs": [
    {
     "data": {
      "text/plain": [
       "[<matplotlib.lines.Line2D at 0x7f833b9d1fa0>]"
      ]
     },
     "execution_count": 5,
     "metadata": {},
     "output_type": "execute_result"
    },
    {
     "data": {
      "image/png": "[encoded data removed]",
      "text/plain": [
       "<Figure size 432x288 with 1 Axes>"
      ]
     },
     "metadata": {
      "needs_background": "light"
     },
     "output_type": "display_data"
    }
   ],
   "source": [
    "plt.plot(X, y, 'bo')"
   ]
  },
  {
   "cell_type": "code",
   "execution_count": 12,
   "metadata": {},
   "outputs": [
    {
     "ename": "SyntaxError",
     "evalue": "invalid syntax (<ipython-input-12-96704ef84b68>, line 6)",
     "output_type": "error",
     "traceback": [
      "\u001b[0;36m  File \u001b[0;32m\"<ipython-input-12-96704ef84b68>\"\u001b[0;36m, line \u001b[0;32m6\u001b[0m\n\u001b[0;31m    der_b =\u001b[0m\n\u001b[0m            ^\u001b[0m\n\u001b[0;31mSyntaxError\u001b[0m\u001b[0;31m:\u001b[0m invalid syntax\n"
     ]
    }
   ],
   "source": [
    "m, b = 0, 0\n",
    "alpha = 0.01\n",
    "for i in range(100):\n",
    "    h = m * X + b\n",
    "    der_m = (y - h)\n",
    "    der_b = np.mean(y - h)\n",
    "    "
   ]
  },
  {
   "cell_type": "code",
   "execution_count": 17,
   "metadata": {},
   "outputs": [
    {
     "data": {
      "text/plain": [
       "array([ 1.02511601e+01,  2.90765354e+00,  5.87414058e-01, -3.53612589e+00,\n",
       "       -6.96293394e-01,  2.38022944e+00,  1.03401314e+00,  1.88811559e+00,\n",
       "        6.01745462e+00,  9.27980495e+00,  7.98854506e-02, -6.15670387e-01,\n",
       "        2.12902526e+00, -2.75896804e-01,  3.97973507e-02,  2.82870336e+00,\n",
       "        3.78016893e+00,  5.75831040e-01, -5.22401822e+00,  6.26092640e+00,\n",
       "       -2.94072810e-01,  2.13526096e+00, -1.98604678e+00,  4.33593182e+00,\n",
       "        3.29817765e+00, -2.15091732e+00, -2.86299154e+00,  1.13014197e+00,\n",
       "        4.49687685e+00, -9.25309864e-01,  4.39237403e+00,  1.68821233e+00,\n",
       "        3.30895835e+00,  3.30670336e+00,  4.20267165e+00,  1.91532829e+00,\n",
       "       -1.24507842e+00, -1.25904388e+00,  3.70923003e+00,  1.45791768e+00,\n",
       "       -1.97572732e+00,  5.75918853e+00, -2.16743703e+00, -6.39355612e+00,\n",
       "        2.99217777e+00,  5.50795077e-02, -1.83104395e+00, -1.19866045e-01,\n",
       "        5.15285149e+00,  6.04074962e+00, -1.53025422e-01,  1.11848710e+00,\n",
       "       -2.17106297e+00, -5.67360775e-01,  5.69873006e+00,  3.19687470e+00,\n",
       "        1.80529185e+00,  2.58568113e+00,  2.49825450e+00,  3.65789859e+00,\n",
       "        3.95767754e+00, -5.25385949e-01,  5.24319899e-03,  3.04438490e-01,\n",
       "       -2.61248517e+00,  2.30440865e+00,  2.15197880e+00,  2.39207056e+00,\n",
       "        4.53862809e+00,  2.32943726e+00, -9.41580001e-01,  4.84064887e+00,\n",
       "        3.58400357e+00,  1.65158602e+00, -4.82704934e+00,  9.36665657e+00,\n",
       "       -1.05330502e+00, -1.70690384e+00,  8.26617999e-01,  7.02434368e+00,\n",
       "        3.15738143e+00, -2.42122714e+00,  1.58890898e+00,  4.49590793e+00,\n",
       "        5.86696825e+00,  5.85294900e-01, -1.72539733e+00, -1.36871142e+00,\n",
       "       -9.61743734e-01,  2.40258937e+00,  1.43140074e-01,  3.55230772e+00,\n",
       "        3.50418254e-01,  3.64813727e+00,  1.18407314e+00, -1.04945083e+00,\n",
       "       -2.75449326e+00,  2.53504955e+00,  3.78347858e+00,  8.61791436e+00])"
      ]
     },
     "execution_count": 17,
     "metadata": {},
     "output_type": "execute_result"
    }
   ],
   "source": [
    "m, b = 2, -1\n",
    "h = m * X + b\n",
    "y - h"
   ]
  },
  {
   "cell_type": "markdown",
   "metadata": {},
   "source": [
    "# Building Linear Regression Object"
   ]
  },
  {
   "cell_type": "code",
   "execution_count": 8,
   "metadata": {},
   "outputs": [],
   "source": [
    "class Linear_Regression:\n",
    "    def __init__(self):\n",
    "        self.m = 0\n",
    "        self.b = 0\n",
    "        \n",
    "    def predict(self, x):\n",
    "        # mx + b\n",
    "        return self.m * x + self.b\n",
    "    \n",
    "    def get_MSE_error(self, x, y):\n",
    "        h = self.predict(x)\n",
    "        return np.mean((y - h) ** 2) / 2\n",
    "    \n",
    "    def get_MSE_derivatives(self, x, y):\n",
    "        h = self.predict(x)\n",
    "        return [-np.mean((y - h) * x), -np.mean(y - h)]\n",
    "    \n",
    "    def fit(self, x, y, alpha, itterations):\n",
    "        for i in range(itterations):\n",
    "            der_m, der_b = self.get_MSE_derivatives(x, y)\n",
    "            self.m = self.m - alpha * der_m\n",
    "            self.b = self.b - alpha * der_b"
   ]
  },
  {
   "cell_type": "code",
   "execution_count": 9,
   "metadata": {},
   "outputs": [
    {
     "name": "stdout",
     "output_type": "stream",
     "text": [
      "y = 2.0921532614869993 * x + -0.5920461160826932\n"
     ]
    }
   ],
   "source": [
    "model = Linear_Regression()\n",
    "model.fit(X, y, 0.01, 100)\n",
    "\n",
    "print('y = {} * x + {}'.format(model.m, model.b))"
   ]
  },
  {
   "cell_type": "code",
   "execution_count": 10,
   "metadata": {},
   "outputs": [
    {
     "data": {
      "text/plain": [
       "[<matplotlib.lines.Line2D at 0x7f4b0528dd30>]"
      ]
     },
     "execution_count": 10,
     "metadata": {},
     "output_type": "execute_result"
    },
    {
     "data": {
      "image/png": "[encoded data removed]",
      "text/plain": [
       "<Figure size 432x288 with 1 Axes>"
      ]
     },
     "metadata": {},
     "output_type": "display_data"
    }
   ],
   "source": [
    "x_line = np.array([dataset[:, 0].min() * 0.8, dataset[:, 0].max() * 1.2])\n",
    "y_line = model.m * x_line + model.b\n",
    "\n",
    "plt.plot(x_line, y_line, 'r--')\n",
    "plt.plot(X, y, 'bo')"
   ]
  }
 ],
 "metadata": {
  "kernelspec": {
   "display_name": "Python 3",
   "language": "python",
   "name": "python3"
  },
  "language_info": {
   "codemirror_mode": {
    "name": "ipython",
    "version": 3
   },
   "file_extension": ".py",
   "mimetype": "text/x-python",
   "name": "python",
   "nbconvert_exporter": "python",
   "pygments_lexer": "ipython3",
   "version": "3.8.5"
  }
 },
 "nbformat": 4,
 "nbformat_minor": 2
}
