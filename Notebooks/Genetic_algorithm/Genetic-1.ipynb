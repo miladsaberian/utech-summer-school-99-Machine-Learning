{
 "cells": [
  {
   "cell_type": "code",
   "execution_count": 2,
   "metadata": {},
   "outputs": [],
   "source": [
    "import numpy as np\n",
    "import pandas as pd\n",
    "import matplotlib.pyplot as plt\n",
    "%matplotlib inline"
   ]
  },
  {
   "cell_type": "code",
   "execution_count": 3,
   "metadata": {},
   "outputs": [
    {
     "data": {
      "text/html": [
       "<div>\n",
       "<style scoped>\n",
       "    .dataframe tbody tr th:only-of-type {\n",
       "        vertical-align: middle;\n",
       "    }\n",
       "\n",
       "    .dataframe tbody tr th {\n",
       "        vertical-align: top;\n",
       "    }\n",
       "\n",
       "    .dataframe thead th {\n",
       "        text-align: right;\n",
       "    }\n",
       "</style>\n",
       "<table border=\"1\" class=\"dataframe\">\n",
       "  <thead>\n",
       "    <tr style=\"text-align: right;\">\n",
       "      <th></th>\n",
       "      <th>Gender</th>\n",
       "      <th>Age</th>\n",
       "      <th>EstimatedSalary</th>\n",
       "      <th>Purchased</th>\n",
       "    </tr>\n",
       "  </thead>\n",
       "  <tbody>\n",
       "    <tr>\n",
       "      <th>0</th>\n",
       "      <td>Male</td>\n",
       "      <td>19</td>\n",
       "      <td>19000</td>\n",
       "      <td>0</td>\n",
       "    </tr>\n",
       "    <tr>\n",
       "      <th>1</th>\n",
       "      <td>Male</td>\n",
       "      <td>35</td>\n",
       "      <td>20000</td>\n",
       "      <td>0</td>\n",
       "    </tr>\n",
       "    <tr>\n",
       "      <th>2</th>\n",
       "      <td>Female</td>\n",
       "      <td>26</td>\n",
       "      <td>43000</td>\n",
       "      <td>0</td>\n",
       "    </tr>\n",
       "    <tr>\n",
       "      <th>3</th>\n",
       "      <td>Female</td>\n",
       "      <td>27</td>\n",
       "      <td>57000</td>\n",
       "      <td>0</td>\n",
       "    </tr>\n",
       "    <tr>\n",
       "      <th>4</th>\n",
       "      <td>Male</td>\n",
       "      <td>19</td>\n",
       "      <td>76000</td>\n",
       "      <td>0</td>\n",
       "    </tr>\n",
       "  </tbody>\n",
       "</table>\n",
       "</div>"
      ],
      "text/plain": [
       "   Gender  Age  EstimatedSalary  Purchased\n",
       "0    Male   19            19000          0\n",
       "1    Male   35            20000          0\n",
       "2  Female   26            43000          0\n",
       "3  Female   27            57000          0\n",
       "4    Male   19            76000          0"
      ]
     },
     "execution_count": 3,
     "metadata": {},
     "output_type": "execute_result"
    }
   ],
   "source": [
    "df = pd.read_csv('../../Datasets/Social_Network_Ads.csv')\n",
    "\n",
    "df.drop('User ID', axis=1, inplace=True)\n",
    "df.head(5)"
   ]
  },
  {
   "cell_type": "code",
   "execution_count": 5,
   "metadata": {},
   "outputs": [],
   "source": [
    "df.Gender = pd.get_dummies(df.Gender, drop_first=True)\n",
    "X = df.to_numpy()\n",
    "\n",
    "np.random.seed = 0\n",
    "X = X[np.random.permutation(X.shape[0])]\n",
    "\n",
    "y = X[:, -1]\n",
    "X = X[:, :-1]\n",
    "\n",
    "X = (X - X.mean(axis=0)) / X.std(axis=0)"
   ]
  },
  {
   "cell_type": "code",
   "execution_count": 6,
   "metadata": {},
   "outputs": [],
   "source": [
    "split = int(X.shape[0] * 0.8)\n",
    "\n",
    "X_train = X[:split]\n",
    "y_train = y[:split].reshape(-1, 1)\n",
    "\n",
    "X_test = X[split:]\n",
    "y_test = y[split:].reshape(-1, 1)"
   ]
  },
  {
   "cell_type": "code",
   "execution_count": 8,
   "metadata": {},
   "outputs": [],
   "source": [
    "def sigmoid(z):\n",
    "    return 1 / (1 + np.exp(-z))\n",
    "    \n",
    "def fitness_function(W):\n",
    "    if len(W.shape) == 1:\n",
    "        W = W.reshape(1, -1)\n",
    "    global X_train, y_train\n",
    "    # W.shape = (1000, 3)\n",
    "    # X.shape = (320, 3)\n",
    "    \n",
    "    # z.shape = (320, 1000) = X * W.T\n",
    "    # y.shape = (320, 1)\n",
    "    z = np.dot(X_train, W.T)\n",
    "    h = sigmoid(z)\n",
    "    CE = -y_train * np.log(h) - (1 - y_train) * np.log(1 - h)\n",
    "    return np.mean(CE, axis=0)"
   ]
  },
  {
   "cell_type": "code",
   "execution_count": 23,
   "metadata": {},
   "outputs": [],
   "source": [
    "def parent_selection(fitness):\n",
    "    sum_fitness = np.sum(fitness)\n",
    "    selection_prob = fitness / sum_fitness\n",
    "    idx = np.arange(fitness.shape[0])\n",
    "    parent_idx = np.random.choice(idx, size=fitness.shape[0], p=selection_prob)\n",
    "    return parent_idx\n",
    "\n",
    "\n",
    "def crossover(parents):\n",
    "    offsprings = parents.copy()\n",
    "    for i in range(0, parents.shape[0], 2):\n",
    "        # crossover parents[i], parents[i + 1]\n",
    "        mask = np.random.randint(0, 2, size=parents.shape[1])\n",
    "\n",
    "        offsprings[i, mask == 1] = parents[i + 1, mask == 1]\n",
    "        offsprings[i + 1, mask == 1] = parents[i, mask == 1]\n",
    "\n",
    "    return offsprings\n",
    "\n",
    "\n",
    "def mutation(offsprings):\n",
    "    mask = np.random.random(size=offsprings.shape) > 0.7\n",
    "    new_values = np.random.random(size=offsprings.shape) * 2 - 1\n",
    "\n",
    "    offsprings[mask == 1] = new_values[mask == 1]\n",
    "    return offsprings"
   ]
  },
  {
   "cell_type": "code",
   "execution_count": 24,
   "metadata": {
    "scrolled": true
   },
   "outputs": [
    {
     "name": "stdout",
     "output_type": "stream",
     "text": [
      "0\n",
      "1\n",
      "2\n",
      "3\n",
      "4\n",
      "5\n",
      "6\n",
      "7\n",
      "8\n",
      "9\n",
      "10\n",
      "11\n",
      "12\n",
      "13\n",
      "14\n",
      "15\n",
      "16\n",
      "17\n",
      "18\n",
      "19\n",
      "20\n",
      "21\n",
      "22\n",
      "23\n",
      "24\n",
      "25\n",
      "26\n",
      "27\n",
      "28\n",
      "29\n",
      "30\n",
      "31\n",
      "32\n",
      "33\n",
      "34\n",
      "35\n",
      "36\n",
      "37\n",
      "38\n",
      "39\n",
      "40\n",
      "41\n",
      "42\n",
      "43\n",
      "44\n",
      "45\n",
      "46\n",
      "47\n",
      "48\n",
      "49\n"
     ]
    }
   ],
   "source": [
    "population = np.random.random(size=(1000, 3)) * 2 - 1\n",
    "best_fitness = []\n",
    "mean_fitness = []\n",
    "for i in range(50):\n",
    "    print(i)\n",
    "    error = fitness_function(population)\n",
    "\n",
    "    best_fitness.append(error.min())\n",
    "    mean_fitness.append(error.mean())\n",
    "\n",
    "    fitness = 20 - error\n",
    "\n",
    "    parents_idx = parent_selection(fitness)\n",
    "    parents = population[parents_idx]\n",
    "\n",
    "    offsprings = crossover(parents)\n",
    "    offsprings = mutation(offsprings)\n",
    "\n",
    "    population = np.vstack((population, offsprings))\n",
    "    population = np.array(sorted(population, key=fitness_function))[:1000]"
   ]
  },
  {
   "cell_type": "code",
   "execution_count": 25,
   "metadata": {},
   "outputs": [
    {
     "data": {
      "text/plain": [
       "[<matplotlib.lines.Line2D at 0x7fec5ee59dd8>]"
      ]
     },
     "execution_count": 25,
     "metadata": {},
     "output_type": "execute_result"
    },
    {
     "data": {
      "image/png": "[encoded data removed]",
      "text/plain": [
       "<Figure size 432x288 with 1 Axes>"
      ]
     },
     "metadata": {},
     "output_type": "display_data"
    }
   ],
   "source": [
    "plt.plot(mean_fitness, 'b-')\n",
    "plt.plot(best_fitness, 'r-')"
   ]
  },
  {
   "cell_type": "code",
   "execution_count": 31,
   "metadata": {},
   "outputs": [
    {
     "name": "stdout",
     "output_type": "stream",
     "text": [
      "[[0.03330679 0.99973827 0.78978039]]\n"
     ]
    }
   ],
   "source": [
    "W = population[0].reshape(1, -1)\n",
    "print(W)"
   ]
  },
  {
   "cell_type": "code",
   "execution_count": 32,
   "metadata": {},
   "outputs": [
    {
     "name": "stdout",
     "output_type": "stream",
     "text": [
      "0.809375\n"
     ]
    }
   ],
   "source": [
    "z_train = np.dot(X_train, W.T)\n",
    "h_train = sigmoid(z_train)\n",
    "pred_train = h_train > 0.5\n",
    "\n",
    "print(np.mean(pred_train == y_train))"
   ]
  },
  {
   "cell_type": "code",
   "execution_count": 33,
   "metadata": {},
   "outputs": [
    {
     "name": "stdout",
     "output_type": "stream",
     "text": [
      "0.8\n"
     ]
    }
   ],
   "source": [
    "z_test = np.dot(X_test, W.T)\n",
    "h_test = sigmoid(z_test)\n",
    "pred_test = h_test > 0.5\n",
    "\n",
    "print(np.mean(pred_test == y_test))"
   ]
  }
 ],
 "metadata": {
  "kernelspec": {
   "display_name": "Python 3",
   "language": "python",
   "name": "python3"
  },
  "language_info": {
   "codemirror_mode": {
    "name": "ipython",
    "version": 3
   },
   "file_extension": ".py",
   "mimetype": "text/x-python",
   "name": "python",
   "nbconvert_exporter": "python",
   "pygments_lexer": "ipython3",
   "version": "3.6.9"
  }
 },
 "nbformat": 4,
 "nbformat_minor": 2
}
