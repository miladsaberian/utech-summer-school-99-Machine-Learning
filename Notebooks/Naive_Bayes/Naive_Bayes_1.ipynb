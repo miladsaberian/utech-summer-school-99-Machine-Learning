{
 "cells": [
  {
   "cell_type": "code",
   "execution_count": 2,
   "metadata": {},
   "outputs": [],
   "source": [
    "import numpy as np\n",
    "import pandas as pd\n",
    "import matplotlib.pyplot as plt\n",
    "%matplotlib inline"
   ]
  },
  {
   "cell_type": "code",
   "execution_count": 3,
   "metadata": {},
   "outputs": [
    {
     "data": {
      "text/html": [
       "<div>\n",
       "<style scoped>\n",
       "    .dataframe tbody tr th:only-of-type {\n",
       "        vertical-align: middle;\n",
       "    }\n",
       "\n",
       "    .dataframe tbody tr th {\n",
       "        vertical-align: top;\n",
       "    }\n",
       "\n",
       "    .dataframe thead th {\n",
       "        text-align: right;\n",
       "    }\n",
       "</style>\n",
       "<table border=\"1\" class=\"dataframe\">\n",
       "  <thead>\n",
       "    <tr style=\"text-align: right;\">\n",
       "      <th></th>\n",
       "      <th>Gender</th>\n",
       "      <th>Age</th>\n",
       "      <th>EstimatedSalary</th>\n",
       "      <th>Purchased</th>\n",
       "    </tr>\n",
       "  </thead>\n",
       "  <tbody>\n",
       "    <tr>\n",
       "      <th>0</th>\n",
       "      <td>Male</td>\n",
       "      <td>19</td>\n",
       "      <td>19000</td>\n",
       "      <td>0</td>\n",
       "    </tr>\n",
       "    <tr>\n",
       "      <th>1</th>\n",
       "      <td>Male</td>\n",
       "      <td>35</td>\n",
       "      <td>20000</td>\n",
       "      <td>0</td>\n",
       "    </tr>\n",
       "    <tr>\n",
       "      <th>2</th>\n",
       "      <td>Female</td>\n",
       "      <td>26</td>\n",
       "      <td>43000</td>\n",
       "      <td>0</td>\n",
       "    </tr>\n",
       "    <tr>\n",
       "      <th>3</th>\n",
       "      <td>Female</td>\n",
       "      <td>27</td>\n",
       "      <td>57000</td>\n",
       "      <td>0</td>\n",
       "    </tr>\n",
       "    <tr>\n",
       "      <th>4</th>\n",
       "      <td>Male</td>\n",
       "      <td>19</td>\n",
       "      <td>76000</td>\n",
       "      <td>0</td>\n",
       "    </tr>\n",
       "  </tbody>\n",
       "</table>\n",
       "</div>"
      ],
      "text/plain": [
       "   Gender  Age  EstimatedSalary  Purchased\n",
       "0    Male   19            19000          0\n",
       "1    Male   35            20000          0\n",
       "2  Female   26            43000          0\n",
       "3  Female   27            57000          0\n",
       "4    Male   19            76000          0"
      ]
     },
     "execution_count": 3,
     "metadata": {},
     "output_type": "execute_result"
    }
   ],
   "source": [
    "df = pd.read_csv('../../Datasets/Social_Network_Ads.csv')\n",
    "\n",
    "df.drop('User ID', axis=1, inplace=True)\n",
    "df.head(5)"
   ]
  },
  {
   "cell_type": "code",
   "execution_count": 4,
   "metadata": {},
   "outputs": [],
   "source": [
    "df.Gender = pd.get_dummies(df.Gender, drop_first=True)\n",
    "X = df.to_numpy()\n",
    "\n",
    "np.random.seed = 0\n",
    "X = X[np.random.permutation(X.shape[0])]\n",
    "\n",
    "y = X[:, -1]\n",
    "X = X[:, :-1]"
   ]
  },
  {
   "cell_type": "code",
   "execution_count": 5,
   "metadata": {},
   "outputs": [],
   "source": [
    "split = int(X.shape[0] * 0.8)\n",
    "\n",
    "X_train = X[:split]\n",
    "y_train = y[:split]\n",
    "\n",
    "X_test = X[split:]\n",
    "y_test = y[split:]"
   ]
  },
  {
   "cell_type": "code",
   "execution_count": 16,
   "metadata": {},
   "outputs": [
    {
     "name": "stdout",
     "output_type": "stream",
     "text": [
      "0.659375\n",
      "0.659375\n"
     ]
    }
   ],
   "source": [
    "print(np.mean(y_train == 0))\n",
    "print(y_train[y_train == 0].shape[0] / y_train.shape[0])"
   ]
  },
  {
   "cell_type": "code",
   "execution_count": 23,
   "metadata": {},
   "outputs": [
    {
     "data": {
      "text/plain": [
       "array([1, 0, 0, 0, 1, 0, 1, 1, 1, 1, 0, 0, 0, 0, 1, 0, 1, 0, 1, 0, 1, 1,\n",
       "       1, 0, 0, 1, 0, 0, 1, 1, 1, 1, 0, 1, 1, 0, 1, 1, 0, 1, 1, 1, 0, 1,\n",
       "       1, 0, 0, 1, 1, 0, 0, 0, 0, 0, 1, 0, 1, 1, 0, 1, 0, 1, 1, 0, 0, 0,\n",
       "       0, 0, 0, 0, 1, 0, 1, 0, 0, 0, 1, 0, 1, 0, 0, 0, 1, 0, 0, 0, 0, 0,\n",
       "       0, 1, 0, 1, 1, 0, 0, 1, 1, 1, 0, 0, 0, 0, 1, 0, 0, 1, 1, 1, 0, 0,\n",
       "       0, 0, 1, 0, 0, 0, 1, 1, 0, 1, 1, 1, 0, 1, 0, 1, 1, 1, 0, 0, 1, 0,\n",
       "       1, 0, 1, 0, 1, 0, 0, 0, 0, 0, 1, 1, 1, 1, 0, 1, 0, 0, 1, 1, 0, 0,\n",
       "       0, 1, 0, 1, 1, 1, 0, 1, 0, 1, 0, 0, 0, 1, 1, 1, 1, 1, 1, 0, 1, 0,\n",
       "       0, 1, 0, 1, 1, 0, 1, 1, 0, 0, 1, 0, 1, 1, 1, 1, 1, 0, 1, 1, 1, 1,\n",
       "       1, 1, 1, 1, 0, 0, 0, 0, 0, 0, 0, 1, 0])"
      ]
     },
     "execution_count": 23,
     "metadata": {},
     "output_type": "execute_result"
    }
   ],
   "source": [
    "X_train[y_train == 0][:, 0]"
   ]
  },
  {
   "cell_type": "code",
   "execution_count": 35,
   "metadata": {},
   "outputs": [
    {
     "name": "stdout",
     "output_type": "stream",
     "text": [
      "3.881464158460541e-08 1.8308159309813827e-10 0\n"
     ]
    }
   ],
   "source": [
    "sample = X_test[i]\n",
    "\n",
    "# P(C0 | X) * P(X) = p1\n",
    "# P(X | C0)  = a\n",
    "# P(X_1 = 1 | C0) = a1\n",
    "# P(X_2 = 60 | C0) = a2\n",
    "# P(X_3 = 102000 | C0) = a3\n",
    "# P(C0)  = b\n",
    "\n",
    "mu_1_0 = np.mean(X_train[y_train == 0, 1])\n",
    "mu_2_0 = np.mean(X_train[y_train == 0, 2])\n",
    "sigma_1_0 = np.std(X_train[y_train == 0, 1])\n",
    "sigma_2_0 = np.std(X_train[y_train == 0, 2])\n",
    "\n",
    "a1 = np.mean(X_train[y_train == 0][:, 0] == sample[0])\n",
    "a2 = 1 / ((2 * np.pi) ** 0.5 * sigma_1_0) * np.exp(-((sample[1] - mu_1_0) ** 2) / (2 * sigma_1_0 ** 2))\n",
    "a3 = 1 / ((2 * np.pi) ** 0.5 * sigma_2_0) * np.exp(-((sample[2] - mu_2_0) ** 2) / (2 * sigma_2_0 ** 2))\n",
    "\n",
    "a = a1 * a2 * a3\n",
    "b = np.mean(y_train == 0)\n",
    "p1 = a * b\n",
    "\n",
    "# P(C1 | X) * P(X) = p2\n",
    "# P(X | C1)  = a\n",
    "# P(X_1 = 1 | C1) = a1\n",
    "# P(X_2 = 60 | C1) = a2\n",
    "# P(X_3 = 102000 | C1) = a3\n",
    "# P(C1)  = b\n",
    "\n",
    "mu_1_1 = np.mean(X_train[y_train == 1, 1])\n",
    "mu_2_1 = np.mean(X_train[y_train == 1, 2])\n",
    "sigma_1_1 = np.std(X_train[y_train == 1, 1])\n",
    "sigma_2_1 = np.std(X_train[y_train == 1, 2])\n",
    "\n",
    "a1 = np.mean(X_train[y_train == 1][:, 0] == sample[0])\n",
    "a2 = 1 / ((2 * np.pi) ** 0.5 * sigma_1_1) * np.exp(-((sample[1] - mu_1_1) ** 2) / (2 * sigma_1_1 ** 2))\n",
    "a3 = 1 / ((2 * np.pi) ** 0.5 * sigma_2_1) * np.exp(-((sample[2] - mu_2_1) ** 2) / (2 * sigma_2_1 ** 2))\n",
    "\n",
    "a = a1 * a2 * a3\n",
    "b = np.mean(y_train == 1)\n",
    "p2 = a * b\n",
    "\n",
    "\n",
    "print(p1, p2, y_test[i])"
   ]
  }
 ],
 "metadata": {
  "kernelspec": {
   "display_name": "Python 3",
   "language": "python",
   "name": "python3"
  },
  "language_info": {
   "codemirror_mode": {
    "name": "ipython",
    "version": 3
   },
   "file_extension": ".py",
   "mimetype": "text/x-python",
   "name": "python",
   "nbconvert_exporter": "python",
   "pygments_lexer": "ipython3",
   "version": "3.6.9"
  }
 },
 "nbformat": 4,
 "nbformat_minor": 2
}
