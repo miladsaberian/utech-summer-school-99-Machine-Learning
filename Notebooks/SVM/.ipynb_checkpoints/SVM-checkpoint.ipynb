{
 "cells": [
  {
   "cell_type": "code",
   "execution_count": 1,
   "metadata": {},
   "outputs": [],
   "source": [
    "import numpy as np\n",
    "import pandas as pd\n",
    "import matplotlib.pyplot as plt\n",
    "%matplotlib inline"
   ]
  },
  {
   "cell_type": "code",
   "execution_count": 2,
   "metadata": {},
   "outputs": [
    {
     "data": {
      "text/html": [
       "<div>\n",
       "<style scoped>\n",
       "    .dataframe tbody tr th:only-of-type {\n",
       "        vertical-align: middle;\n",
       "    }\n",
       "\n",
       "    .dataframe tbody tr th {\n",
       "        vertical-align: top;\n",
       "    }\n",
       "\n",
       "    .dataframe thead th {\n",
       "        text-align: right;\n",
       "    }\n",
       "</style>\n",
       "<table border=\"1\" class=\"dataframe\">\n",
       "  <thead>\n",
       "    <tr style=\"text-align: right;\">\n",
       "      <th></th>\n",
       "      <th>Gender</th>\n",
       "      <th>Age</th>\n",
       "      <th>EstimatedSalary</th>\n",
       "      <th>Purchased</th>\n",
       "    </tr>\n",
       "  </thead>\n",
       "  <tbody>\n",
       "    <tr>\n",
       "      <th>0</th>\n",
       "      <td>Male</td>\n",
       "      <td>19</td>\n",
       "      <td>19000</td>\n",
       "      <td>0</td>\n",
       "    </tr>\n",
       "    <tr>\n",
       "      <th>1</th>\n",
       "      <td>Male</td>\n",
       "      <td>35</td>\n",
       "      <td>20000</td>\n",
       "      <td>0</td>\n",
       "    </tr>\n",
       "    <tr>\n",
       "      <th>2</th>\n",
       "      <td>Female</td>\n",
       "      <td>26</td>\n",
       "      <td>43000</td>\n",
       "      <td>0</td>\n",
       "    </tr>\n",
       "    <tr>\n",
       "      <th>3</th>\n",
       "      <td>Female</td>\n",
       "      <td>27</td>\n",
       "      <td>57000</td>\n",
       "      <td>0</td>\n",
       "    </tr>\n",
       "    <tr>\n",
       "      <th>4</th>\n",
       "      <td>Male</td>\n",
       "      <td>19</td>\n",
       "      <td>76000</td>\n",
       "      <td>0</td>\n",
       "    </tr>\n",
       "  </tbody>\n",
       "</table>\n",
       "</div>"
      ],
      "text/plain": [
       "   Gender  Age  EstimatedSalary  Purchased\n",
       "0    Male   19            19000          0\n",
       "1    Male   35            20000          0\n",
       "2  Female   26            43000          0\n",
       "3  Female   27            57000          0\n",
       "4    Male   19            76000          0"
      ]
     },
     "execution_count": 2,
     "metadata": {},
     "output_type": "execute_result"
    }
   ],
   "source": [
    "df = pd.read_csv('../../Datasets/Social_Network_Ads.csv')\n",
    "\n",
    "df.drop('User ID', axis=1, inplace=True)\n",
    "df.head(5)"
   ]
  },
  {
   "cell_type": "code",
   "execution_count": 3,
   "metadata": {},
   "outputs": [],
   "source": [
    "df.Gender = pd.get_dummies(df.Gender, drop_first=True)\n",
    "X = df.to_numpy()\n",
    "\n",
    "np.random.seed = 0\n",
    "X = X[np.random.permutation(X.shape[0])]\n",
    "\n",
    "y = X[:, -1]\n",
    "X = X[:, :-1]"
   ]
  },
  {
   "cell_type": "code",
   "execution_count": 7,
   "metadata": {},
   "outputs": [],
   "source": [
    "X = (X - X.mean(axis=0)) / X.std(axis=0)"
   ]
  },
  {
   "cell_type": "code",
   "execution_count": 8,
   "metadata": {},
   "outputs": [],
   "source": [
    "split = int(X.shape[0] * 0.8)\n",
    "\n",
    "X_train = X[:split]\n",
    "y_train = y[:split]\n",
    "\n",
    "X_test = X[split:]\n",
    "y_test = y[split:]"
   ]
  },
  {
   "cell_type": "code",
   "execution_count": 14,
   "metadata": {},
   "outputs": [
    {
     "name": "stdout",
     "output_type": "stream",
     "text": [
      "0.90625\n",
      "0.925\n"
     ]
    }
   ],
   "source": [
    "from sklearn.svm import SVC\n",
    "\n",
    "clf = SVC()\n",
    "clf.fit(X_train, y_train)\n",
    "\n",
    "print(clf.score(X_train, y_train))\n",
    "print(clf.score(X_test, y_test))"
   ]
  },
  {
   "cell_type": "code",
   "execution_count": 19,
   "metadata": {},
   "outputs": [
    {
     "name": "stdout",
     "output_type": "stream",
     "text": [
      "0.825\n",
      "0.9375\n"
     ]
    }
   ],
   "source": [
    "clf = SVC(kernel='linear')\n",
    "clf.fit(X_train, y_train)\n",
    "\n",
    "print(clf.score(X_train, y_train))\n",
    "print(clf.score(X_test, y_test))"
   ]
  },
  {
   "cell_type": "code",
   "execution_count": 23,
   "metadata": {
    "scrolled": true
   },
   "outputs": [
    {
     "name": "stdout",
     "output_type": "stream",
     "text": [
      "[[0.89482315 0.10517685]\n",
      " [0.95742105 0.04257895]\n",
      " [0.64800572 0.35199428]\n",
      " [0.99312972 0.00687028]\n",
      " [0.85619384 0.14380616]\n",
      " [0.02132951 0.97867049]\n",
      " [0.14042357 0.85957643]\n",
      " [0.46062233 0.53937767]\n",
      " [0.9969121  0.0030879 ]\n",
      " [0.01064449 0.98935551]\n",
      " [0.98552934 0.01447066]\n",
      " [0.6937677  0.3062323 ]\n",
      " [0.32451783 0.67548217]\n",
      " [0.77565098 0.22434902]\n",
      " [0.6856186  0.3143814 ]\n",
      " [0.45346325 0.54653675]\n",
      " [0.89566681 0.10433319]\n",
      " [0.67102241 0.32897759]\n",
      " [0.99506237 0.00493763]\n",
      " [0.98821798 0.01178202]\n",
      " [0.98447849 0.01552151]\n",
      " [0.07400381 0.92599619]\n",
      " [0.6696262  0.3303738 ]\n",
      " [0.71713841 0.28286159]\n",
      " [0.4339488  0.5660512 ]\n",
      " [0.99768696 0.00231304]\n",
      " [0.99246006 0.00753994]\n",
      " [0.10564244 0.89435756]\n",
      " [0.30797134 0.69202866]\n",
      " [0.88839462 0.11160538]\n",
      " [0.21665621 0.78334379]\n",
      " [0.19243823 0.80756177]\n",
      " [0.98388255 0.01611745]\n",
      " [0.7356281  0.2643719 ]\n",
      " [0.72248709 0.27751291]\n",
      " [0.00944258 0.99055742]\n",
      " [0.93974677 0.06025323]\n",
      " [0.83271279 0.16728721]\n",
      " [0.20131474 0.79868526]\n",
      " [0.82962243 0.17037757]\n",
      " [0.77876635 0.22123365]\n",
      " [0.88596528 0.11403472]\n",
      " [0.99418215 0.00581785]\n",
      " [0.97157155 0.02842845]\n",
      " [0.98473566 0.01526434]\n",
      " [0.37511503 0.62488497]\n",
      " [0.93869114 0.06130886]\n",
      " [0.92903753 0.07096247]\n",
      " [0.71713841 0.28286159]\n",
      " [0.01170523 0.98829477]\n",
      " [0.84871453 0.15128547]\n",
      " [0.68464826 0.31535174]\n",
      " [0.76709072 0.23290928]\n",
      " [0.98268581 0.01731419]\n",
      " [0.99384674 0.00615326]\n",
      " [0.91381602 0.08618398]\n",
      " [0.5        0.5       ]\n",
      " [0.80503782 0.19496218]\n",
      " [0.98660405 0.01339595]\n",
      " [0.95787033 0.04212967]\n",
      " [0.96879848 0.03120152]\n",
      " [0.72533987 0.27466013]\n",
      " [0.02597301 0.97402699]\n",
      " [0.45234466 0.54765534]\n",
      " [0.78889545 0.21110455]\n",
      " [0.33442014 0.66557986]\n",
      " [0.88217485 0.11782515]\n",
      " [0.61264693 0.38735307]\n",
      " [0.00400391 0.99599609]\n",
      " [0.6937677  0.3062323 ]\n",
      " [0.20227706 0.79772294]\n",
      " [0.26216264 0.73783736]\n",
      " [0.96976679 0.03023321]\n",
      " [0.82121987 0.17878013]\n",
      " [0.86830834 0.13169166]\n",
      " [0.98702263 0.01297737]\n",
      " [0.6230002  0.3769998 ]\n",
      " [0.63778161 0.36221839]\n",
      " [0.57490088 0.42509912]\n",
      " [0.8345841  0.1654159 ]]\n",
      "[0 0 0 0 0 1 1 1 0 1 0 0 1 0 0 1 0 0 0 0 0 1 0 0 1 0 0 1 1 0 1 1 0 0 0 1 0\n",
      " 0 1 0 0 0 0 0 0 1 0 0 0 1 0 0 0 0 0 0 0 0 0 0 0 0 1 1 0 1 0 0 1 0 1 1 0 0\n",
      " 0 0 0 0 0 0]\n"
     ]
    }
   ],
   "source": [
    "clf = SVC(kernel='linear', probability=True)\n",
    "clf.fit(X_train, y_train)\n",
    "\n",
    "print(clf.predict_proba(X_test))\n",
    "print(clf.predict(X_test))"
   ]
  },
  {
   "cell_type": "code",
   "execution_count": 28,
   "metadata": {},
   "outputs": [
    {
     "data": {
      "text/plain": [
       "[<matplotlib.lines.Line2D at 0x7fe9b8c18760>]"
      ]
     },
     "execution_count": 28,
     "metadata": {},
     "output_type": "execute_result"
    },
    {
     "data": {
      "image/png": "[encoded data removed]",
      "text/plain": [
       "<Figure size 432x288 with 1 Axes>"
      ]
     },
     "metadata": {
      "needs_background": "light"
     },
     "output_type": "display_data"
    }
   ],
   "source": [
    "train_scores = []\n",
    "test_scores = []\n",
    "\n",
    "for c in [0.01, 0.1, 1, 10, 100, 1000]:\n",
    "    clf = SVC(C=c, kernel='linear')\n",
    "    clf.fit(X_train, y_train)\n",
    "    \n",
    "    train_scores.append(clf.score(X_train, y_train))\n",
    "    test_scores.append(clf.score(X_test, y_test))\n",
    "\n",
    "plt.plot([0.01, 0.1, 1, 10, 100, 1000], np.array(train_scores), 'b-')\n",
    "plt.plot([0.01, 0.1, 1, 10, 100, 1000], np.array(test_scores), 'r-')"
   ]
  }
 ],
 "metadata": {
  "kernelspec": {
   "display_name": "Python 3",
   "language": "python",
   "name": "python3"
  },
  "language_info": {
   "codemirror_mode": {
    "name": "ipython",
    "version": 3
   },
   "file_extension": ".py",
   "mimetype": "text/x-python",
   "name": "python",
   "nbconvert_exporter": "python",
   "pygments_lexer": "ipython3",
   "version": "3.8.5"
  }
 },
 "nbformat": 4,
 "nbformat_minor": 2
}
