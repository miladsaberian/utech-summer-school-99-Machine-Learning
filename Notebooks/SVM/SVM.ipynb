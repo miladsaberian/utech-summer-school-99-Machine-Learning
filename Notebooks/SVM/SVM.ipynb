{
 "cells": [
  {
   "cell_type": "code",
   "execution_count": 1,
   "metadata": {},
   "outputs": [],
   "source": [
    "import numpy as np\n",
    "import pandas as pd\n",
    "import matplotlib.pyplot as plt\n",
    "%matplotlib inline"
   ]
  },
  {
   "cell_type": "code",
   "execution_count": 2,
   "metadata": {},
   "outputs": [
    {
     "data": {
      "text/html": [
       "<div>\n",
       "<style scoped>\n",
       "    .dataframe tbody tr th:only-of-type {\n",
       "        vertical-align: middle;\n",
       "    }\n",
       "\n",
       "    .dataframe tbody tr th {\n",
       "        vertical-align: top;\n",
       "    }\n",
       "\n",
       "    .dataframe thead th {\n",
       "        text-align: right;\n",
       "    }\n",
       "</style>\n",
       "<table border=\"1\" class=\"dataframe\">\n",
       "  <thead>\n",
       "    <tr style=\"text-align: right;\">\n",
       "      <th></th>\n",
       "      <th>Gender</th>\n",
       "      <th>Age</th>\n",
       "      <th>EstimatedSalary</th>\n",
       "      <th>Purchased</th>\n",
       "    </tr>\n",
       "  </thead>\n",
       "  <tbody>\n",
       "    <tr>\n",
       "      <th>0</th>\n",
       "      <td>Male</td>\n",
       "      <td>19</td>\n",
       "      <td>19000</td>\n",
       "      <td>0</td>\n",
       "    </tr>\n",
       "    <tr>\n",
       "      <th>1</th>\n",
       "      <td>Male</td>\n",
       "      <td>35</td>\n",
       "      <td>20000</td>\n",
       "      <td>0</td>\n",
       "    </tr>\n",
       "    <tr>\n",
       "      <th>2</th>\n",
       "      <td>Female</td>\n",
       "      <td>26</td>\n",
       "      <td>43000</td>\n",
       "      <td>0</td>\n",
       "    </tr>\n",
       "    <tr>\n",
       "      <th>3</th>\n",
       "      <td>Female</td>\n",
       "      <td>27</td>\n",
       "      <td>57000</td>\n",
       "      <td>0</td>\n",
       "    </tr>\n",
       "    <tr>\n",
       "      <th>4</th>\n",
       "      <td>Male</td>\n",
       "      <td>19</td>\n",
       "      <td>76000</td>\n",
       "      <td>0</td>\n",
       "    </tr>\n",
       "  </tbody>\n",
       "</table>\n",
       "</div>"
      ],
      "text/plain": [
       "   Gender  Age  EstimatedSalary  Purchased\n",
       "0    Male   19            19000          0\n",
       "1    Male   35            20000          0\n",
       "2  Female   26            43000          0\n",
       "3  Female   27            57000          0\n",
       "4    Male   19            76000          0"
      ]
     },
     "execution_count": 2,
     "metadata": {},
     "output_type": "execute_result"
    }
   ],
   "source": [
    "df = pd.read_csv('../../Datasets/Social_Network_Ads.csv')\n",
    "\n",
    "df.drop('User ID', axis=1, inplace=True)\n",
    "df.head(5)"
   ]
  },
  {
   "cell_type": "code",
   "execution_count": 3,
   "metadata": {},
   "outputs": [],
   "source": [
    "df.Gender = pd.get_dummies(df.Gender, drop_first=True)\n",
    "X = df.to_numpy()\n",
    "\n",
    "np.random.seed = 0\n",
    "X = X[np.random.permutation(X.shape[0])]\n",
    "\n",
    "y = X[:, -1]\n",
    "X = X[:, :-1]"
   ]
  },
  {
   "cell_type": "code",
   "execution_count": 7,
   "metadata": {},
   "outputs": [],
   "source": [
    "X = (X - X.mean(axis=0)) / X.std(axis=0)"
   ]
  },
  {
   "cell_type": "code",
   "execution_count": 8,
   "metadata": {},
   "outputs": [],
   "source": [
    "split = int(X.shape[0] * 0.8)\n",
    "\n",
    "X_train = X[:split]\n",
    "y_train = y[:split]\n",
    "\n",
    "X_test = X[split:]\n",
    "y_test = y[split:]"
   ]
  },
  {
   "cell_type": "code",
   "execution_count": 44,
   "metadata": {},
   "outputs": [
    {
     "name": "stdout",
     "output_type": "stream",
     "text": [
      "0.90625\n",
      "0.925\n"
     ]
    }
   ],
   "source": [
    "from sklearn.svm import SVC\n",
    "\n",
    "clf = SVC()\n",
    "clf.fit(X_train, y_train)\n",
    "\n",
    "print(clf.score(X_train, y_train))\n",
    "print(clf.score(X_test, y_test))"
   ]
  },
  {
   "cell_type": "code",
   "execution_count": 45,
   "metadata": {},
   "outputs": [
    {
     "name": "stdout",
     "output_type": "stream",
     "text": [
      "0.825\n",
      "0.9375\n"
     ]
    }
   ],
   "source": [
    "clf = SVC(kernel='linear')\n",
    "clf.fit(X_train, y_train)\n",
    "\n",
    "print(clf.score(X_train, y_train))\n",
    "print(clf.score(X_test, y_test))"
   ]
  },
  {
   "cell_type": "code",
   "execution_count": 37,
   "metadata": {
    "scrolled": true
   },
   "outputs": [
    {
     "name": "stdout",
     "output_type": "stream",
     "text": [
      "[[0.88758868 0.11241132]\n",
      " [0.95288549 0.04711451]\n",
      " [0.6410811  0.3589189 ]\n",
      " [0.99198104 0.00801896]\n",
      " [0.84805863 0.15194137]\n",
      " [0.02337168 0.97662832]\n",
      " [0.14493167 0.85506833]\n",
      " [0.45817512 0.54182488]\n",
      " [0.99631338 0.00368662]\n",
      " [0.01190823 0.98809177]\n",
      " [0.98346496 0.01653504]\n",
      " [0.68577898 0.31422102]\n",
      " [0.32591994 0.67408006]\n",
      " [0.76696423 0.23303577]\n",
      " [0.67775062 0.32224938]\n",
      " [0.4512203  0.5487797 ]\n",
      " [0.888458   0.111542  ]\n",
      " [0.66376928 0.33623072]\n",
      " [0.99418266 0.00581734]\n",
      " [0.98645756 0.01354244]\n",
      " [0.98229998 0.01770002]\n",
      " [0.07799673 0.92200327]\n",
      " [0.66239195 0.33760805]\n",
      " [0.70884984 0.29115016]\n",
      " [0.43226019 0.56773981]\n",
      " [0.99721586 0.00278414]\n",
      " [0.9912226  0.0087774 ]\n",
      " [0.1100631  0.8899369 ]\n",
      " [0.30979588 0.69020412]\n",
      " [0.88097372 0.11902628]\n",
      " [0.22040806 0.77959194]\n",
      " [0.19654052 0.80345948]\n",
      " [0.98164037 0.01835963]\n",
      " [0.72715539 0.27284461]\n",
      " [0.71414019 0.28585981]\n",
      " [0.01060093 0.98939907]\n",
      " [0.93701675 0.06298325]\n",
      " [0.8242555  0.1757445 ]\n",
      " [0.20529862 0.79470138]\n",
      " [0.8211337  0.1788663 ]\n",
      " [0.77007467 0.22992533]\n",
      " [0.87847803 0.12152197]\n",
      " [0.99317737 0.00682263]\n",
      " [0.96815148 0.03184852]\n",
      " [0.98258485 0.01741515]\n",
      " [0.37508127 0.62491873]\n",
      " [0.9332275  0.0667725 ]\n",
      " [0.92309829 0.07690171]\n",
      " [0.70884984 0.29115016]\n",
      " [0.01305824 0.98694176]\n",
      " [0.84046013 0.15953987]\n",
      " [0.67679519 0.32320481]\n",
      " [0.75842668 0.24157332]\n",
      " [0.98031797 0.01968203]\n",
      " [0.99279548 0.00720452]\n",
      " [0.9072322  0.0927678 ]\n",
      " [0.5        0.5       ]\n",
      " [0.79638075 0.20361925]\n",
      " [0.984659   0.015341  ]\n",
      " [0.95336707 0.04663293]\n",
      " [0.96514254 0.03485746]\n",
      " [0.71696353 0.28303647]\n",
      " [0.02828964 0.97171036]\n",
      " [0.45013359 0.54986641]\n",
      " [0.78020063 0.21979937]\n",
      " [0.33556193 0.66443807]\n",
      " [0.87458841 0.12541159]\n",
      " [0.6063212  0.3936788 ]\n",
      " [0.00460851 0.99539149]\n",
      " [0.68577898 0.31422102]\n",
      " [0.20624738 0.79375262]\n",
      " [0.26505414 0.73494586]\n",
      " [0.96619216 0.03380784]\n",
      " [0.81265762 0.18734238]\n",
      " [0.86040176 0.13959824]\n",
      " [0.98512482 0.01487518]\n",
      " [0.61648533 0.38351467]\n",
      " [0.63101696 0.36898304]\n",
      " [0.56936864 0.43063136]\n",
      " [0.82614704 0.17385296]]\n",
      "[0 0 0 0 0 1 1 1 0 1 0 0 1 0 0 1 0 0 0 0 0 1 0 0 1 0 0 1 1 0 1 1 0 0 0 1 0\n",
      " 0 1 0 0 0 0 0 0 1 0 0 0 1 0 0 0 0 0 0 0 0 0 0 0 0 1 1 0 1 0 0 1 0 1 1 0 0\n",
      " 0 0 0 0 0 0]\n"
     ]
    }
   ],
   "source": [
    "clf = SVC(kernel='linear', probability=True)\n",
    "clf.fit(X_train, y_train)\n",
    "\n",
    "print(clf.predict_proba(X_test))\n",
    "print(clf.predict(X_test))"
   ]
  },
  {
   "cell_type": "code",
   "execution_count": 46,
   "metadata": {},
   "outputs": [
    {
     "data": {
      "image/png": "[encoded data removed]",
      "text/plain": [
       "<Figure size 432x288 with 1 Axes>"
      ]
     },
     "metadata": {
      "needs_background": "light"
     },
     "output_type": "display_data"
    }
   ],
   "source": [
    "train_scores = []\n",
    "test_scores = []\n",
    "\n",
    "for c in [0.01, 0.1, 1, 10, 100, 1000]:\n",
    "    clf = SVC(C=c, kernel='poly')\n",
    "    clf.fit(X_train, y_train)\n",
    "    \n",
    "    train_scores.append(clf.score(X_train, y_train))\n",
    "    test_scores.append(clf.score(X_test, y_test))\n",
    "\n",
    "plt.plot([0.01, 0.1, 1, 10, 100, 1000], np.array(train_scores), 'b-o')\n",
    "plt.plot([0.01, 0.1, 1, 10, 100, 1000], np.array(test_scores), 'r-o')\n",
    "plt.xscale('log')"
   ]
  },
  {
   "cell_type": "code",
   "execution_count": 40,
   "metadata": {},
   "outputs": [
    {
     "data": {
      "text/plain": [
       "[<matplotlib.lines.Line2D at 0x7fe9b6e19c10>]"
      ]
     },
     "execution_count": 40,
     "metadata": {},
     "output_type": "execute_result"
    },
    {
     "data": {
      "image/png": "[encoded data removed]",
      "text/plain": [
       "<Figure size 432x288 with 1 Axes>"
      ]
     },
     "metadata": {
      "needs_background": "light"
     },
     "output_type": "display_data"
    }
   ],
   "source": [
    "pred = clf.predict(X)\n",
    "\n",
    "plt.plot(X[y == 1, 1], X[y == 1, 2], 'ro')\n",
    "plt.plot(X[y == 0, 1], X[y == 0, 2], 'bo')"
   ]
  },
  {
   "cell_type": "code",
   "execution_count": 39,
   "metadata": {},
   "outputs": [
    {
     "data": {
      "text/plain": [
       "[<matplotlib.lines.Line2D at 0x7fe9b6e3d0d0>]"
      ]
     },
     "execution_count": 39,
     "metadata": {},
     "output_type": "execute_result"
    },
    {
     "data": {
      "image/png": "[encoded data removed]",
      "text/plain": [
       "<Figure size 432x288 with 1 Axes>"
      ]
     },
     "metadata": {
      "needs_background": "light"
     },
     "output_type": "display_data"
    }
   ],
   "source": [
    "pred = clf.predict(X)\n",
    "\n",
    "plt.plot(X[pred == 1, 1], X[pred == 1, 2], 'ro')\n",
    "plt.plot(X[pred == 0, 1], X[pred == 0, 2], 'bo')"
   ]
  }
 ],
 "metadata": {
  "kernelspec": {
   "display_name": "Python 3",
   "language": "python",
   "name": "python3"
  },
  "language_info": {
   "codemirror_mode": {
    "name": "ipython",
    "version": 3
   },
   "file_extension": ".py",
   "mimetype": "text/x-python",
   "name": "python",
   "nbconvert_exporter": "python",
   "pygments_lexer": "ipython3",
   "version": "3.8.5"
  }
 },
 "nbformat": 4,
 "nbformat_minor": 2
}
